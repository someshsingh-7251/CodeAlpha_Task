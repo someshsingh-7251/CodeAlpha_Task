{
 "cells": [
  {
   "cell_type": "markdown",
   "id": "a8b0aec5",
   "metadata": {
    "papermill": {
     "duration": 0.010644,
     "end_time": "2025-07-10T04:32:50.161427",
     "exception": false,
     "start_time": "2025-07-10T04:32:50.150783",
     "status": "completed"
    },
    "tags": []
   },
   "source": [
    "# TASK 1: Credit Scoring Model\n",
    "\n",
    "**Objective:** Predict an individual's **creditworthiness** using past financial data. \n",
    "\n",
    "**Approach:** Use **classification algorithms** like Logistic Regression, Decision Trees, or Random Forest.\n",
    "\n",
    "**Key Features:**\n",
    "* Feature engineering from financial history.\n",
    "* Model accuracy assessment using metrics like **Precision, Recall, F1-Score, ROC-AUC.**\n",
    "* Dataset could include: income, debts, payment history, etc."
   ]
  },
  {
   "cell_type": "code",
   "execution_count": 1,
   "id": "645ec8c3",
   "metadata": {
    "_cell_guid": "b1076dfc-b9ad-4769-8c92-a6c4dae69d19",
    "_uuid": "8f2839f25d086af736a60e9eeb907d3b93b6e0e5",
    "execution": {
     "iopub.execute_input": "2025-07-10T04:32:50.181235Z",
     "iopub.status.busy": "2025-07-10T04:32:50.180912Z",
     "iopub.status.idle": "2025-07-10T04:32:53.966522Z",
     "shell.execute_reply": "2025-07-10T04:32:53.965678Z"
    },
    "papermill": {
     "duration": 3.797423,
     "end_time": "2025-07-10T04:32:53.968202",
     "exception": false,
     "start_time": "2025-07-10T04:32:50.170779",
     "status": "completed"
    },
    "tags": []
   },
   "outputs": [],
   "source": [
    "import pandas as pd\n",
    "import numpy as np\n",
    "import matplotlib.pyplot as plt \n",
    "import seaborn as sns "
   ]
  },
  {
   "cell_type": "code",
   "execution_count": 2,
   "id": "28dbf0f1",
   "metadata": {
    "execution": {
     "iopub.execute_input": "2025-07-10T04:32:53.989991Z",
     "iopub.status.busy": "2025-07-10T04:32:53.988861Z",
     "iopub.status.idle": "2025-07-10T04:32:54.045176Z",
     "shell.execute_reply": "2025-07-10T04:32:54.044283Z"
    },
    "papermill": {
     "duration": 0.069593,
     "end_time": "2025-07-10T04:32:54.047330",
     "exception": false,
     "start_time": "2025-07-10T04:32:53.977737",
     "status": "completed"
    },
    "tags": []
   },
   "outputs": [
    {
     "name": "stdout",
     "output_type": "stream",
     "text": [
      "      Loan_ID  Gender Married Dependents     Education Self_Employed  \\\n",
      "0    LP001002    Male      No          0      Graduate            No   \n",
      "1    LP001003    Male     Yes          1      Graduate            No   \n",
      "2    LP001005    Male     Yes          0      Graduate           Yes   \n",
      "3    LP001006    Male     Yes          0  Not Graduate            No   \n",
      "4    LP001008    Male      No          0      Graduate            No   \n",
      "..        ...     ...     ...        ...           ...           ...   \n",
      "609  LP002978  Female      No          0      Graduate            No   \n",
      "610  LP002979    Male     Yes         3+      Graduate            No   \n",
      "611  LP002983    Male     Yes          1      Graduate            No   \n",
      "612  LP002984    Male     Yes          2      Graduate            No   \n",
      "613  LP002990  Female      No          0      Graduate           Yes   \n",
      "\n",
      "     ApplicantIncome  CoapplicantIncome  LoanAmount  Loan_Amount_Term  \\\n",
      "0               5849                0.0         NaN             360.0   \n",
      "1               4583             1508.0       128.0             360.0   \n",
      "2               3000                0.0        66.0             360.0   \n",
      "3               2583             2358.0       120.0             360.0   \n",
      "4               6000                0.0       141.0             360.0   \n",
      "..               ...                ...         ...               ...   \n",
      "609             2900                0.0        71.0             360.0   \n",
      "610             4106                0.0        40.0             180.0   \n",
      "611             8072              240.0       253.0             360.0   \n",
      "612             7583                0.0       187.0             360.0   \n",
      "613             4583                0.0       133.0             360.0   \n",
      "\n",
      "     Credit_History Property_Area Loan_Status  \n",
      "0               1.0         Urban           Y  \n",
      "1               1.0         Rural           N  \n",
      "2               1.0         Urban           Y  \n",
      "3               1.0         Urban           Y  \n",
      "4               1.0         Urban           Y  \n",
      "..              ...           ...         ...  \n",
      "609             1.0         Rural           Y  \n",
      "610             1.0         Rural           Y  \n",
      "611             1.0         Urban           Y  \n",
      "612             1.0         Urban           Y  \n",
      "613             0.0     Semiurban           N  \n",
      "\n",
      "[614 rows x 13 columns]\n"
     ]
    },
    {
     "name": "stderr",
     "output_type": "stream",
     "text": [
      "/usr/local/lib/python3.11/dist-packages/pandas/io/formats/format.py:1458: RuntimeWarning: invalid value encountered in greater\n",
      "  has_large_values = (abs_vals > 1e6).any()\n",
      "/usr/local/lib/python3.11/dist-packages/pandas/io/formats/format.py:1459: RuntimeWarning: invalid value encountered in less\n",
      "  has_small_values = ((abs_vals < 10 ** (-self.digits)) & (abs_vals > 0)).any()\n",
      "/usr/local/lib/python3.11/dist-packages/pandas/io/formats/format.py:1459: RuntimeWarning: invalid value encountered in greater\n",
      "  has_small_values = ((abs_vals < 10 ** (-self.digits)) & (abs_vals > 0)).any()\n"
     ]
    }
   ],
   "source": [
    "df=pd.read_csv(\"/kaggle/input/creaditing-scoring-dataset/train.csv\")\n",
    "df.head(5)\n",
    "print(df)"
   ]
  },
  {
   "cell_type": "code",
   "execution_count": 3,
   "id": "7ab986a2",
   "metadata": {
    "execution": {
     "iopub.execute_input": "2025-07-10T04:32:54.073431Z",
     "iopub.status.busy": "2025-07-10T04:32:54.072698Z",
     "iopub.status.idle": "2025-07-10T04:32:54.081156Z",
     "shell.execute_reply": "2025-07-10T04:32:54.080254Z"
    },
    "papermill": {
     "duration": 0.020257,
     "end_time": "2025-07-10T04:32:54.082760",
     "exception": false,
     "start_time": "2025-07-10T04:32:54.062503",
     "status": "completed"
    },
    "tags": []
   },
   "outputs": [],
   "source": [
    "df=df.drop('Loan_ID', axis=1)"
   ]
  },
  {
   "cell_type": "code",
   "execution_count": 4,
   "id": "cdcedf20",
   "metadata": {
    "execution": {
     "iopub.execute_input": "2025-07-10T04:32:54.111863Z",
     "iopub.status.busy": "2025-07-10T04:32:54.111549Z",
     "iopub.status.idle": "2025-07-10T04:32:54.121952Z",
     "shell.execute_reply": "2025-07-10T04:32:54.121023Z"
    },
    "papermill": {
     "duration": 0.023859,
     "end_time": "2025-07-10T04:32:54.124184",
     "exception": false,
     "start_time": "2025-07-10T04:32:54.100325",
     "status": "completed"
    },
    "tags": []
   },
   "outputs": [
    {
     "data": {
      "text/plain": [
       "Gender               13\n",
       "Married               3\n",
       "Dependents           15\n",
       "Education             0\n",
       "Self_Employed        32\n",
       "ApplicantIncome       0\n",
       "CoapplicantIncome     0\n",
       "LoanAmount           22\n",
       "Loan_Amount_Term     14\n",
       "Credit_History       50\n",
       "Property_Area         0\n",
       "Loan_Status           0\n",
       "dtype: int64"
      ]
     },
     "execution_count": 4,
     "metadata": {},
     "output_type": "execute_result"
    }
   ],
   "source": [
    "df.isnull().sum()"
   ]
  },
  {
   "cell_type": "code",
   "execution_count": 5,
   "id": "809a03d8",
   "metadata": {
    "execution": {
     "iopub.execute_input": "2025-07-10T04:32:54.151088Z",
     "iopub.status.busy": "2025-07-10T04:32:54.150763Z",
     "iopub.status.idle": "2025-07-10T04:32:54.158272Z",
     "shell.execute_reply": "2025-07-10T04:32:54.157306Z"
    },
    "papermill": {
     "duration": 0.019153,
     "end_time": "2025-07-10T04:32:54.159727",
     "exception": false,
     "start_time": "2025-07-10T04:32:54.140574",
     "status": "completed"
    },
    "tags": []
   },
   "outputs": [],
   "source": [
    "df['Gender']=df['Gender'].fillna(df['Gender'].mode()[0])"
   ]
  },
  {
   "cell_type": "code",
   "execution_count": 6,
   "id": "d5f98cad",
   "metadata": {
    "execution": {
     "iopub.execute_input": "2025-07-10T04:32:54.181951Z",
     "iopub.status.busy": "2025-07-10T04:32:54.181206Z",
     "iopub.status.idle": "2025-07-10T04:32:54.190510Z",
     "shell.execute_reply": "2025-07-10T04:32:54.189638Z"
    },
    "papermill": {
     "duration": 0.021557,
     "end_time": "2025-07-10T04:32:54.192015",
     "exception": false,
     "start_time": "2025-07-10T04:32:54.170458",
     "status": "completed"
    },
    "tags": []
   },
   "outputs": [
    {
     "data": {
      "text/plain": [
       "Gender                0\n",
       "Married               3\n",
       "Dependents           15\n",
       "Education             0\n",
       "Self_Employed        32\n",
       "ApplicantIncome       0\n",
       "CoapplicantIncome     0\n",
       "LoanAmount           22\n",
       "Loan_Amount_Term     14\n",
       "Credit_History       50\n",
       "Property_Area         0\n",
       "Loan_Status           0\n",
       "dtype: int64"
      ]
     },
     "execution_count": 6,
     "metadata": {},
     "output_type": "execute_result"
    }
   ],
   "source": [
    "df.isnull().sum()"
   ]
  },
  {
   "cell_type": "code",
   "execution_count": 7,
   "id": "f4e3df66",
   "metadata": {
    "execution": {
     "iopub.execute_input": "2025-07-10T04:32:54.213135Z",
     "iopub.status.busy": "2025-07-10T04:32:54.212715Z",
     "iopub.status.idle": "2025-07-10T04:32:54.219807Z",
     "shell.execute_reply": "2025-07-10T04:32:54.218861Z"
    },
    "papermill": {
     "duration": 0.019757,
     "end_time": "2025-07-10T04:32:54.221565",
     "exception": false,
     "start_time": "2025-07-10T04:32:54.201808",
     "status": "completed"
    },
    "tags": []
   },
   "outputs": [],
   "source": [
    "df['Married']=df['Married'].fillna(df['Married'].mode()[0])"
   ]
  },
  {
   "cell_type": "code",
   "execution_count": 8,
   "id": "d5661ec0",
   "metadata": {
    "execution": {
     "iopub.execute_input": "2025-07-10T04:32:54.242034Z",
     "iopub.status.busy": "2025-07-10T04:32:54.241679Z",
     "iopub.status.idle": "2025-07-10T04:32:54.249393Z",
     "shell.execute_reply": "2025-07-10T04:32:54.248553Z"
    },
    "papermill": {
     "duration": 0.019698,
     "end_time": "2025-07-10T04:32:54.250792",
     "exception": false,
     "start_time": "2025-07-10T04:32:54.231094",
     "status": "completed"
    },
    "tags": []
   },
   "outputs": [
    {
     "data": {
      "text/plain": [
       "Gender                0\n",
       "Married               0\n",
       "Dependents           15\n",
       "Education             0\n",
       "Self_Employed        32\n",
       "ApplicantIncome       0\n",
       "CoapplicantIncome     0\n",
       "LoanAmount           22\n",
       "Loan_Amount_Term     14\n",
       "Credit_History       50\n",
       "Property_Area         0\n",
       "Loan_Status           0\n",
       "dtype: int64"
      ]
     },
     "execution_count": 8,
     "metadata": {},
     "output_type": "execute_result"
    }
   ],
   "source": [
    "df.isnull().sum()"
   ]
  },
  {
   "cell_type": "code",
   "execution_count": 9,
   "id": "6a9dad3b",
   "metadata": {
    "execution": {
     "iopub.execute_input": "2025-07-10T04:32:54.271369Z",
     "iopub.status.busy": "2025-07-10T04:32:54.271068Z",
     "iopub.status.idle": "2025-07-10T04:32:54.277010Z",
     "shell.execute_reply": "2025-07-10T04:32:54.276129Z"
    },
    "papermill": {
     "duration": 0.018066,
     "end_time": "2025-07-10T04:32:54.278698",
     "exception": false,
     "start_time": "2025-07-10T04:32:54.260632",
     "status": "completed"
    },
    "tags": []
   },
   "outputs": [],
   "source": [
    "df['Dependents']=df['Dependents'].fillna(df['Dependents'].mode()[0])"
   ]
  },
  {
   "cell_type": "code",
   "execution_count": 10,
   "id": "6c6811c9",
   "metadata": {
    "execution": {
     "iopub.execute_input": "2025-07-10T04:32:54.299104Z",
     "iopub.status.busy": "2025-07-10T04:32:54.298788Z",
     "iopub.status.idle": "2025-07-10T04:32:54.304360Z",
     "shell.execute_reply": "2025-07-10T04:32:54.303598Z"
    },
    "papermill": {
     "duration": 0.017473,
     "end_time": "2025-07-10T04:32:54.305907",
     "exception": false,
     "start_time": "2025-07-10T04:32:54.288434",
     "status": "completed"
    },
    "tags": []
   },
   "outputs": [],
   "source": [
    "df['Self_Employed']=df['Self_Employed'].fillna(df['Self_Employed'].mode()[0])"
   ]
  },
  {
   "cell_type": "code",
   "execution_count": 11,
   "id": "4e19b29b",
   "metadata": {
    "execution": {
     "iopub.execute_input": "2025-07-10T04:32:54.327355Z",
     "iopub.status.busy": "2025-07-10T04:32:54.327047Z",
     "iopub.status.idle": "2025-07-10T04:32:54.334252Z",
     "shell.execute_reply": "2025-07-10T04:32:54.333455Z"
    },
    "papermill": {
     "duration": 0.019614,
     "end_time": "2025-07-10T04:32:54.335643",
     "exception": false,
     "start_time": "2025-07-10T04:32:54.316029",
     "status": "completed"
    },
    "tags": []
   },
   "outputs": [],
   "source": [
    "df['Loan_Amount_Term']=df['Loan_Amount_Term'].fillna(df['Loan_Amount_Term'].mode()[0])"
   ]
  },
  {
   "cell_type": "code",
   "execution_count": 12,
   "id": "2a1c4b41",
   "metadata": {
    "execution": {
     "iopub.execute_input": "2025-07-10T04:32:54.356071Z",
     "iopub.status.busy": "2025-07-10T04:32:54.355748Z",
     "iopub.status.idle": "2025-07-10T04:32:54.361727Z",
     "shell.execute_reply": "2025-07-10T04:32:54.360842Z"
    },
    "papermill": {
     "duration": 0.01783,
     "end_time": "2025-07-10T04:32:54.363292",
     "exception": false,
     "start_time": "2025-07-10T04:32:54.345462",
     "status": "completed"
    },
    "tags": []
   },
   "outputs": [],
   "source": [
    "df['LoanAmount']=df['LoanAmount'].fillna(df['LoanAmount'].mode()[0])"
   ]
  },
  {
   "cell_type": "code",
   "execution_count": 13,
   "id": "e5d190f9",
   "metadata": {
    "execution": {
     "iopub.execute_input": "2025-07-10T04:32:54.392900Z",
     "iopub.status.busy": "2025-07-10T04:32:54.392614Z",
     "iopub.status.idle": "2025-07-10T04:32:54.398443Z",
     "shell.execute_reply": "2025-07-10T04:32:54.397418Z"
    },
    "papermill": {
     "duration": 0.019955,
     "end_time": "2025-07-10T04:32:54.400102",
     "exception": false,
     "start_time": "2025-07-10T04:32:54.380147",
     "status": "completed"
    },
    "tags": []
   },
   "outputs": [],
   "source": [
    "df['Credit_History']=df['Credit_History'].fillna(df['Credit_History'].mode()[0])"
   ]
  },
  {
   "cell_type": "code",
   "execution_count": 14,
   "id": "80e7673b",
   "metadata": {
    "execution": {
     "iopub.execute_input": "2025-07-10T04:32:54.420913Z",
     "iopub.status.busy": "2025-07-10T04:32:54.420608Z",
     "iopub.status.idle": "2025-07-10T04:32:54.428373Z",
     "shell.execute_reply": "2025-07-10T04:32:54.427541Z"
    },
    "papermill": {
     "duration": 0.019783,
     "end_time": "2025-07-10T04:32:54.429815",
     "exception": false,
     "start_time": "2025-07-10T04:32:54.410032",
     "status": "completed"
    },
    "tags": []
   },
   "outputs": [
    {
     "data": {
      "text/plain": [
       "Gender               0\n",
       "Married              0\n",
       "Dependents           0\n",
       "Education            0\n",
       "Self_Employed        0\n",
       "ApplicantIncome      0\n",
       "CoapplicantIncome    0\n",
       "LoanAmount           0\n",
       "Loan_Amount_Term     0\n",
       "Credit_History       0\n",
       "Property_Area        0\n",
       "Loan_Status          0\n",
       "dtype: int64"
      ]
     },
     "execution_count": 14,
     "metadata": {},
     "output_type": "execute_result"
    }
   ],
   "source": [
    "df.isnull().sum()"
   ]
  },
  {
   "cell_type": "code",
   "execution_count": 15,
   "id": "6c61dc4e",
   "metadata": {
    "execution": {
     "iopub.execute_input": "2025-07-10T04:32:54.515292Z",
     "iopub.status.busy": "2025-07-10T04:32:54.514908Z",
     "iopub.status.idle": "2025-07-10T04:32:54.522087Z",
     "shell.execute_reply": "2025-07-10T04:32:54.521262Z"
    },
    "papermill": {
     "duration": 0.019166,
     "end_time": "2025-07-10T04:32:54.523538",
     "exception": false,
     "start_time": "2025-07-10T04:32:54.504372",
     "status": "completed"
    },
    "tags": []
   },
   "outputs": [
    {
     "data": {
      "text/plain": [
       "array(['Y', 'N'], dtype=object)"
      ]
     },
     "execution_count": 15,
     "metadata": {},
     "output_type": "execute_result"
    }
   ],
   "source": [
    "df['Loan_Status'].unique()"
   ]
  },
  {
   "cell_type": "code",
   "execution_count": 16,
   "id": "99ec39dd",
   "metadata": {
    "execution": {
     "iopub.execute_input": "2025-07-10T04:32:54.544598Z",
     "iopub.status.busy": "2025-07-10T04:32:54.544246Z",
     "iopub.status.idle": "2025-07-10T04:32:54.550765Z",
     "shell.execute_reply": "2025-07-10T04:32:54.549981Z"
    },
    "papermill": {
     "duration": 0.018606,
     "end_time": "2025-07-10T04:32:54.552149",
     "exception": false,
     "start_time": "2025-07-10T04:32:54.533543",
     "status": "completed"
    },
    "tags": []
   },
   "outputs": [
    {
     "data": {
      "text/plain": [
       "2"
      ]
     },
     "execution_count": 16,
     "metadata": {},
     "output_type": "execute_result"
    }
   ],
   "source": [
    "df['Loan_Status'].nunique()"
   ]
  },
  {
   "cell_type": "code",
   "execution_count": 17,
   "id": "e5c516b4",
   "metadata": {
    "execution": {
     "iopub.execute_input": "2025-07-10T04:32:54.573366Z",
     "iopub.status.busy": "2025-07-10T04:32:54.572733Z",
     "iopub.status.idle": "2025-07-10T04:32:54.581331Z",
     "shell.execute_reply": "2025-07-10T04:32:54.580437Z"
    },
    "papermill": {
     "duration": 0.020658,
     "end_time": "2025-07-10T04:32:54.582663",
     "exception": false,
     "start_time": "2025-07-10T04:32:54.562005",
     "status": "completed"
    },
    "tags": []
   },
   "outputs": [
    {
     "data": {
      "text/plain": [
       "Loan_Status\n",
       "Y    422\n",
       "N    192\n",
       "Name: count, dtype: int64"
      ]
     },
     "execution_count": 17,
     "metadata": {},
     "output_type": "execute_result"
    }
   ],
   "source": [
    "df['Loan_Status'].value_counts()"
   ]
  },
  {
   "cell_type": "code",
   "execution_count": 18,
   "id": "22d85f89",
   "metadata": {
    "execution": {
     "iopub.execute_input": "2025-07-10T04:32:54.603633Z",
     "iopub.status.busy": "2025-07-10T04:32:54.603303Z",
     "iopub.status.idle": "2025-07-10T04:32:54.883697Z",
     "shell.execute_reply": "2025-07-10T04:32:54.882710Z"
    },
    "papermill": {
     "duration": 0.292917,
     "end_time": "2025-07-10T04:32:54.885407",
     "exception": false,
     "start_time": "2025-07-10T04:32:54.592490",
     "status": "completed"
    },
    "tags": []
   },
   "outputs": [],
   "source": [
    "from sklearn.preprocessing import LabelEncoder"
   ]
  },
  {
   "cell_type": "code",
   "execution_count": 19,
   "id": "4dbd74d6",
   "metadata": {
    "execution": {
     "iopub.execute_input": "2025-07-10T04:32:54.906611Z",
     "iopub.status.busy": "2025-07-10T04:32:54.906252Z",
     "iopub.status.idle": "2025-07-10T04:32:54.914164Z",
     "shell.execute_reply": "2025-07-10T04:32:54.913396Z"
    },
    "papermill": {
     "duration": 0.020036,
     "end_time": "2025-07-10T04:32:54.915566",
     "exception": false,
     "start_time": "2025-07-10T04:32:54.895530",
     "status": "completed"
    },
    "tags": []
   },
   "outputs": [],
   "source": [
    "le=LabelEncoder()\n",
    "for i in ['Gender','Married','Education','Dependents','Self_Employed','Property_Area','Loan_Status']:\n",
    "    df[i]=le.fit_transform(df[i])"
   ]
  },
  {
   "cell_type": "code",
   "execution_count": 20,
   "id": "84111ac2",
   "metadata": {
    "execution": {
     "iopub.execute_input": "2025-07-10T04:32:54.937112Z",
     "iopub.status.busy": "2025-07-10T04:32:54.936768Z",
     "iopub.status.idle": "2025-07-10T04:32:54.956551Z",
     "shell.execute_reply": "2025-07-10T04:32:54.955575Z"
    },
    "papermill": {
     "duration": 0.032169,
     "end_time": "2025-07-10T04:32:54.958157",
     "exception": false,
     "start_time": "2025-07-10T04:32:54.925988",
     "status": "completed"
    },
    "tags": []
   },
   "outputs": [
    {
     "data": {
      "text/html": [
       "<div>\n",
       "<style scoped>\n",
       "    .dataframe tbody tr th:only-of-type {\n",
       "        vertical-align: middle;\n",
       "    }\n",
       "\n",
       "    .dataframe tbody tr th {\n",
       "        vertical-align: top;\n",
       "    }\n",
       "\n",
       "    .dataframe thead th {\n",
       "        text-align: right;\n",
       "    }\n",
       "</style>\n",
       "<table border=\"1\" class=\"dataframe\">\n",
       "  <thead>\n",
       "    <tr style=\"text-align: right;\">\n",
       "      <th></th>\n",
       "      <th>Gender</th>\n",
       "      <th>Married</th>\n",
       "      <th>Dependents</th>\n",
       "      <th>Education</th>\n",
       "      <th>Self_Employed</th>\n",
       "      <th>ApplicantIncome</th>\n",
       "      <th>CoapplicantIncome</th>\n",
       "      <th>LoanAmount</th>\n",
       "      <th>Loan_Amount_Term</th>\n",
       "      <th>Credit_History</th>\n",
       "      <th>Property_Area</th>\n",
       "      <th>Loan_Status</th>\n",
       "    </tr>\n",
       "  </thead>\n",
       "  <tbody>\n",
       "    <tr>\n",
       "      <th>0</th>\n",
       "      <td>1</td>\n",
       "      <td>0</td>\n",
       "      <td>0</td>\n",
       "      <td>0</td>\n",
       "      <td>0</td>\n",
       "      <td>5849</td>\n",
       "      <td>0.0</td>\n",
       "      <td>120.0</td>\n",
       "      <td>360.0</td>\n",
       "      <td>1.0</td>\n",
       "      <td>2</td>\n",
       "      <td>1</td>\n",
       "    </tr>\n",
       "    <tr>\n",
       "      <th>1</th>\n",
       "      <td>1</td>\n",
       "      <td>1</td>\n",
       "      <td>1</td>\n",
       "      <td>0</td>\n",
       "      <td>0</td>\n",
       "      <td>4583</td>\n",
       "      <td>1508.0</td>\n",
       "      <td>128.0</td>\n",
       "      <td>360.0</td>\n",
       "      <td>1.0</td>\n",
       "      <td>0</td>\n",
       "      <td>0</td>\n",
       "    </tr>\n",
       "    <tr>\n",
       "      <th>2</th>\n",
       "      <td>1</td>\n",
       "      <td>1</td>\n",
       "      <td>0</td>\n",
       "      <td>0</td>\n",
       "      <td>1</td>\n",
       "      <td>3000</td>\n",
       "      <td>0.0</td>\n",
       "      <td>66.0</td>\n",
       "      <td>360.0</td>\n",
       "      <td>1.0</td>\n",
       "      <td>2</td>\n",
       "      <td>1</td>\n",
       "    </tr>\n",
       "    <tr>\n",
       "      <th>3</th>\n",
       "      <td>1</td>\n",
       "      <td>1</td>\n",
       "      <td>0</td>\n",
       "      <td>1</td>\n",
       "      <td>0</td>\n",
       "      <td>2583</td>\n",
       "      <td>2358.0</td>\n",
       "      <td>120.0</td>\n",
       "      <td>360.0</td>\n",
       "      <td>1.0</td>\n",
       "      <td>2</td>\n",
       "      <td>1</td>\n",
       "    </tr>\n",
       "    <tr>\n",
       "      <th>4</th>\n",
       "      <td>1</td>\n",
       "      <td>0</td>\n",
       "      <td>0</td>\n",
       "      <td>0</td>\n",
       "      <td>0</td>\n",
       "      <td>6000</td>\n",
       "      <td>0.0</td>\n",
       "      <td>141.0</td>\n",
       "      <td>360.0</td>\n",
       "      <td>1.0</td>\n",
       "      <td>2</td>\n",
       "      <td>1</td>\n",
       "    </tr>\n",
       "  </tbody>\n",
       "</table>\n",
       "</div>"
      ],
      "text/plain": [
       "   Gender  Married  Dependents  Education  Self_Employed  ApplicantIncome  \\\n",
       "0       1        0           0          0              0             5849   \n",
       "1       1        1           1          0              0             4583   \n",
       "2       1        1           0          0              1             3000   \n",
       "3       1        1           0          1              0             2583   \n",
       "4       1        0           0          0              0             6000   \n",
       "\n",
       "   CoapplicantIncome  LoanAmount  Loan_Amount_Term  Credit_History  \\\n",
       "0                0.0       120.0             360.0             1.0   \n",
       "1             1508.0       128.0             360.0             1.0   \n",
       "2                0.0        66.0             360.0             1.0   \n",
       "3             2358.0       120.0             360.0             1.0   \n",
       "4                0.0       141.0             360.0             1.0   \n",
       "\n",
       "   Property_Area  Loan_Status  \n",
       "0              2            1  \n",
       "1              0            0  \n",
       "2              2            1  \n",
       "3              2            1  \n",
       "4              2            1  "
      ]
     },
     "execution_count": 20,
     "metadata": {},
     "output_type": "execute_result"
    }
   ],
   "source": [
    "df.head(5)"
   ]
  },
  {
   "cell_type": "code",
   "execution_count": 21,
   "id": "f9eb8a01",
   "metadata": {
    "execution": {
     "iopub.execute_input": "2025-07-10T04:32:54.979805Z",
     "iopub.status.busy": "2025-07-10T04:32:54.979479Z",
     "iopub.status.idle": "2025-07-10T04:32:54.995715Z",
     "shell.execute_reply": "2025-07-10T04:32:54.994763Z"
    },
    "papermill": {
     "duration": 0.02874,
     "end_time": "2025-07-10T04:32:54.997185",
     "exception": false,
     "start_time": "2025-07-10T04:32:54.968445",
     "status": "completed"
    },
    "tags": []
   },
   "outputs": [
    {
     "data": {
      "text/html": [
       "<div>\n",
       "<style scoped>\n",
       "    .dataframe tbody tr th:only-of-type {\n",
       "        vertical-align: middle;\n",
       "    }\n",
       "\n",
       "    .dataframe tbody tr th {\n",
       "        vertical-align: top;\n",
       "    }\n",
       "\n",
       "    .dataframe thead th {\n",
       "        text-align: right;\n",
       "    }\n",
       "</style>\n",
       "<table border=\"1\" class=\"dataframe\">\n",
       "  <thead>\n",
       "    <tr style=\"text-align: right;\">\n",
       "      <th></th>\n",
       "      <th>Gender</th>\n",
       "      <th>Married</th>\n",
       "      <th>Dependents</th>\n",
       "      <th>Education</th>\n",
       "      <th>Self_Employed</th>\n",
       "      <th>ApplicantIncome</th>\n",
       "      <th>CoapplicantIncome</th>\n",
       "      <th>LoanAmount</th>\n",
       "      <th>Loan_Amount_Term</th>\n",
       "      <th>Credit_History</th>\n",
       "      <th>Property_Area</th>\n",
       "    </tr>\n",
       "  </thead>\n",
       "  <tbody>\n",
       "    <tr>\n",
       "      <th>0</th>\n",
       "      <td>1</td>\n",
       "      <td>0</td>\n",
       "      <td>0</td>\n",
       "      <td>0</td>\n",
       "      <td>0</td>\n",
       "      <td>5849</td>\n",
       "      <td>0.0</td>\n",
       "      <td>120.0</td>\n",
       "      <td>360.0</td>\n",
       "      <td>1.0</td>\n",
       "      <td>2</td>\n",
       "    </tr>\n",
       "    <tr>\n",
       "      <th>1</th>\n",
       "      <td>1</td>\n",
       "      <td>1</td>\n",
       "      <td>1</td>\n",
       "      <td>0</td>\n",
       "      <td>0</td>\n",
       "      <td>4583</td>\n",
       "      <td>1508.0</td>\n",
       "      <td>128.0</td>\n",
       "      <td>360.0</td>\n",
       "      <td>1.0</td>\n",
       "      <td>0</td>\n",
       "    </tr>\n",
       "    <tr>\n",
       "      <th>2</th>\n",
       "      <td>1</td>\n",
       "      <td>1</td>\n",
       "      <td>0</td>\n",
       "      <td>0</td>\n",
       "      <td>1</td>\n",
       "      <td>3000</td>\n",
       "      <td>0.0</td>\n",
       "      <td>66.0</td>\n",
       "      <td>360.0</td>\n",
       "      <td>1.0</td>\n",
       "      <td>2</td>\n",
       "    </tr>\n",
       "    <tr>\n",
       "      <th>3</th>\n",
       "      <td>1</td>\n",
       "      <td>1</td>\n",
       "      <td>0</td>\n",
       "      <td>1</td>\n",
       "      <td>0</td>\n",
       "      <td>2583</td>\n",
       "      <td>2358.0</td>\n",
       "      <td>120.0</td>\n",
       "      <td>360.0</td>\n",
       "      <td>1.0</td>\n",
       "      <td>2</td>\n",
       "    </tr>\n",
       "    <tr>\n",
       "      <th>4</th>\n",
       "      <td>1</td>\n",
       "      <td>0</td>\n",
       "      <td>0</td>\n",
       "      <td>0</td>\n",
       "      <td>0</td>\n",
       "      <td>6000</td>\n",
       "      <td>0.0</td>\n",
       "      <td>141.0</td>\n",
       "      <td>360.0</td>\n",
       "      <td>1.0</td>\n",
       "      <td>2</td>\n",
       "    </tr>\n",
       "    <tr>\n",
       "      <th>...</th>\n",
       "      <td>...</td>\n",
       "      <td>...</td>\n",
       "      <td>...</td>\n",
       "      <td>...</td>\n",
       "      <td>...</td>\n",
       "      <td>...</td>\n",
       "      <td>...</td>\n",
       "      <td>...</td>\n",
       "      <td>...</td>\n",
       "      <td>...</td>\n",
       "      <td>...</td>\n",
       "    </tr>\n",
       "    <tr>\n",
       "      <th>609</th>\n",
       "      <td>0</td>\n",
       "      <td>0</td>\n",
       "      <td>0</td>\n",
       "      <td>0</td>\n",
       "      <td>0</td>\n",
       "      <td>2900</td>\n",
       "      <td>0.0</td>\n",
       "      <td>71.0</td>\n",
       "      <td>360.0</td>\n",
       "      <td>1.0</td>\n",
       "      <td>0</td>\n",
       "    </tr>\n",
       "    <tr>\n",
       "      <th>610</th>\n",
       "      <td>1</td>\n",
       "      <td>1</td>\n",
       "      <td>3</td>\n",
       "      <td>0</td>\n",
       "      <td>0</td>\n",
       "      <td>4106</td>\n",
       "      <td>0.0</td>\n",
       "      <td>40.0</td>\n",
       "      <td>180.0</td>\n",
       "      <td>1.0</td>\n",
       "      <td>0</td>\n",
       "    </tr>\n",
       "    <tr>\n",
       "      <th>611</th>\n",
       "      <td>1</td>\n",
       "      <td>1</td>\n",
       "      <td>1</td>\n",
       "      <td>0</td>\n",
       "      <td>0</td>\n",
       "      <td>8072</td>\n",
       "      <td>240.0</td>\n",
       "      <td>253.0</td>\n",
       "      <td>360.0</td>\n",
       "      <td>1.0</td>\n",
       "      <td>2</td>\n",
       "    </tr>\n",
       "    <tr>\n",
       "      <th>612</th>\n",
       "      <td>1</td>\n",
       "      <td>1</td>\n",
       "      <td>2</td>\n",
       "      <td>0</td>\n",
       "      <td>0</td>\n",
       "      <td>7583</td>\n",
       "      <td>0.0</td>\n",
       "      <td>187.0</td>\n",
       "      <td>360.0</td>\n",
       "      <td>1.0</td>\n",
       "      <td>2</td>\n",
       "    </tr>\n",
       "    <tr>\n",
       "      <th>613</th>\n",
       "      <td>0</td>\n",
       "      <td>0</td>\n",
       "      <td>0</td>\n",
       "      <td>0</td>\n",
       "      <td>1</td>\n",
       "      <td>4583</td>\n",
       "      <td>0.0</td>\n",
       "      <td>133.0</td>\n",
       "      <td>360.0</td>\n",
       "      <td>0.0</td>\n",
       "      <td>1</td>\n",
       "    </tr>\n",
       "  </tbody>\n",
       "</table>\n",
       "<p>614 rows × 11 columns</p>\n",
       "</div>"
      ],
      "text/plain": [
       "     Gender  Married  Dependents  Education  Self_Employed  ApplicantIncome  \\\n",
       "0         1        0           0          0              0             5849   \n",
       "1         1        1           1          0              0             4583   \n",
       "2         1        1           0          0              1             3000   \n",
       "3         1        1           0          1              0             2583   \n",
       "4         1        0           0          0              0             6000   \n",
       "..      ...      ...         ...        ...            ...              ...   \n",
       "609       0        0           0          0              0             2900   \n",
       "610       1        1           3          0              0             4106   \n",
       "611       1        1           1          0              0             8072   \n",
       "612       1        1           2          0              0             7583   \n",
       "613       0        0           0          0              1             4583   \n",
       "\n",
       "     CoapplicantIncome  LoanAmount  Loan_Amount_Term  Credit_History  \\\n",
       "0                  0.0       120.0             360.0             1.0   \n",
       "1               1508.0       128.0             360.0             1.0   \n",
       "2                  0.0        66.0             360.0             1.0   \n",
       "3               2358.0       120.0             360.0             1.0   \n",
       "4                  0.0       141.0             360.0             1.0   \n",
       "..                 ...         ...               ...             ...   \n",
       "609                0.0        71.0             360.0             1.0   \n",
       "610                0.0        40.0             180.0             1.0   \n",
       "611              240.0       253.0             360.0             1.0   \n",
       "612                0.0       187.0             360.0             1.0   \n",
       "613                0.0       133.0             360.0             0.0   \n",
       "\n",
       "     Property_Area  \n",
       "0                2  \n",
       "1                0  \n",
       "2                2  \n",
       "3                2  \n",
       "4                2  \n",
       "..             ...  \n",
       "609              0  \n",
       "610              0  \n",
       "611              2  \n",
       "612              2  \n",
       "613              1  \n",
       "\n",
       "[614 rows x 11 columns]"
      ]
     },
     "execution_count": 21,
     "metadata": {},
     "output_type": "execute_result"
    }
   ],
   "source": [
    "x=df.iloc[:,:-1]\n",
    "x"
   ]
  },
  {
   "cell_type": "code",
   "execution_count": 22,
   "id": "96dc2837",
   "metadata": {
    "execution": {
     "iopub.execute_input": "2025-07-10T04:32:55.019461Z",
     "iopub.status.busy": "2025-07-10T04:32:55.019110Z",
     "iopub.status.idle": "2025-07-10T04:32:55.025807Z",
     "shell.execute_reply": "2025-07-10T04:32:55.025133Z"
    },
    "papermill": {
     "duration": 0.019487,
     "end_time": "2025-07-10T04:32:55.027199",
     "exception": false,
     "start_time": "2025-07-10T04:32:55.007712",
     "status": "completed"
    },
    "tags": []
   },
   "outputs": [
    {
     "data": {
      "text/plain": [
       "0      1\n",
       "1      0\n",
       "2      1\n",
       "3      1\n",
       "4      1\n",
       "      ..\n",
       "609    1\n",
       "610    1\n",
       "611    1\n",
       "612    1\n",
       "613    0\n",
       "Name: Loan_Status, Length: 614, dtype: int64"
      ]
     },
     "execution_count": 22,
     "metadata": {},
     "output_type": "execute_result"
    }
   ],
   "source": [
    "y=df['Loan_Status']\n",
    "y"
   ]
  },
  {
   "cell_type": "code",
   "execution_count": 23,
   "id": "3d48554f",
   "metadata": {
    "execution": {
     "iopub.execute_input": "2025-07-10T04:32:55.049561Z",
     "iopub.status.busy": "2025-07-10T04:32:55.049255Z",
     "iopub.status.idle": "2025-07-10T04:32:55.609130Z",
     "shell.execute_reply": "2025-07-10T04:32:55.608183Z"
    },
    "papermill": {
     "duration": 0.57394,
     "end_time": "2025-07-10T04:32:55.611630",
     "exception": false,
     "start_time": "2025-07-10T04:32:55.037690",
     "status": "completed"
    },
    "tags": []
   },
   "outputs": [
    {
     "data": {
      "image/png": "[encoded data removed]",
      "text/plain": [
       "<Figure size 640x480 with 2 Axes>"
      ]
     },
     "metadata": {},
     "output_type": "display_data"
    }
   ],
   "source": [
    "sns.heatmap(x.corr(),annot=True,fmt='.2f',cmap='coolwarm')\n",
    "plt.show()"
   ]
  },
  {
   "cell_type": "code",
   "execution_count": 24,
   "id": "aa25ec83",
   "metadata": {
    "execution": {
     "iopub.execute_input": "2025-07-10T04:32:55.637925Z",
     "iopub.status.busy": "2025-07-10T04:32:55.637651Z",
     "iopub.status.idle": "2025-07-10T04:33:04.873072Z",
     "shell.execute_reply": "2025-07-10T04:33:04.871667Z"
    },
    "papermill": {
     "duration": 9.250485,
     "end_time": "2025-07-10T04:33:04.874873",
     "exception": false,
     "start_time": "2025-07-10T04:32:55.624388",
     "status": "completed"
    },
    "tags": []
   },
   "outputs": [
    {
     "name": "stdout",
     "output_type": "stream",
     "text": [
      "Requirement already satisfied: imbalanced-learn in /usr/local/lib/python3.11/dist-packages (0.13.0)\r\n",
      "Requirement already satisfied: numpy<3,>=1.24.3 in /usr/local/lib/python3.11/dist-packages (from imbalanced-learn) (1.26.4)\r\n",
      "Requirement already satisfied: scipy<2,>=1.10.1 in /usr/local/lib/python3.11/dist-packages (from imbalanced-learn) (1.15.3)\r\n",
      "Collecting scikit-learn<2,>=1.3.2 (from imbalanced-learn)\r\n",
      "  Downloading scikit_learn-1.7.0-cp311-cp311-manylinux_2_17_x86_64.manylinux2014_x86_64.whl.metadata (17 kB)\r\n",
      "Requirement already satisfied: sklearn-compat<1,>=0.1 in /usr/local/lib/python3.11/dist-packages (from imbalanced-learn) (0.1.3)\r\n",
      "Requirement already satisfied: joblib<2,>=1.1.1 in /usr/local/lib/python3.11/dist-packages (from imbalanced-learn) (1.5.1)\r\n",
      "Requirement already satisfied: threadpoolctl<4,>=2.0.0 in /usr/local/lib/python3.11/dist-packages (from imbalanced-learn) (3.6.0)\r\n",
      "Requirement already satisfied: mkl_fft in /usr/local/lib/python3.11/dist-packages (from numpy<3,>=1.24.3->imbalanced-learn) (1.3.8)\r\n",
      "Requirement already satisfied: mkl_random in /usr/local/lib/python3.11/dist-packages (from numpy<3,>=1.24.3->imbalanced-learn) (1.2.4)\r\n",
      "Requirement already satisfied: mkl_umath in /usr/local/lib/python3.11/dist-packages (from numpy<3,>=1.24.3->imbalanced-learn) (0.1.1)\r\n",
      "Requirement already satisfied: mkl in /usr/local/lib/python3.11/dist-packages (from numpy<3,>=1.24.3->imbalanced-learn) (2025.2.0)\r\n",
      "Requirement already satisfied: tbb4py in /usr/local/lib/python3.11/dist-packages (from numpy<3,>=1.24.3->imbalanced-learn) (2022.2.0)\r\n",
      "Requirement already satisfied: mkl-service in /usr/local/lib/python3.11/dist-packages (from numpy<3,>=1.24.3->imbalanced-learn) (2.4.1)\r\n",
      "  Downloading scikit_learn-1.6.1-cp311-cp311-manylinux_2_17_x86_64.manylinux2014_x86_64.whl.metadata (18 kB)\r\n",
      "Requirement already satisfied: intel-openmp<2026,>=2024 in /usr/local/lib/python3.11/dist-packages (from mkl->numpy<3,>=1.24.3->imbalanced-learn) (2024.2.0)\r\n",
      "Requirement already satisfied: tbb==2022.* in /usr/local/lib/python3.11/dist-packages (from mkl->numpy<3,>=1.24.3->imbalanced-learn) (2022.2.0)\r\n",
      "Requirement already satisfied: tcmlib==1.* in /usr/local/lib/python3.11/dist-packages (from tbb==2022.*->mkl->numpy<3,>=1.24.3->imbalanced-learn) (1.4.0)\r\n",
      "Requirement already satisfied: intel-cmplr-lib-rt in /usr/local/lib/python3.11/dist-packages (from mkl_umath->numpy<3,>=1.24.3->imbalanced-learn) (2024.2.0)\r\n",
      "Requirement already satisfied: intel-cmplr-lib-ur==2024.2.0 in /usr/local/lib/python3.11/dist-packages (from intel-openmp<2026,>=2024->mkl->numpy<3,>=1.24.3->imbalanced-learn) (2024.2.0)\r\n",
      "Downloading scikit_learn-1.6.1-cp311-cp311-manylinux_2_17_x86_64.manylinux2014_x86_64.whl (13.5 MB)\r\n",
      "\u001b[2K   \u001b[90m━━━━━━━━━━━━━━━━━━━━━━━━━━━━━━━━━━━━━━━━\u001b[0m \u001b[32m13.5/13.5 MB\u001b[0m \u001b[31m62.4 MB/s\u001b[0m eta \u001b[36m0:00:00\u001b[0m\r\n",
      "\u001b[?25hInstalling collected packages: scikit-learn\r\n",
      "  Attempting uninstall: scikit-learn\r\n",
      "    Found existing installation: scikit-learn 1.2.2\r\n",
      "    Uninstalling scikit-learn-1.2.2:\r\n",
      "      Successfully uninstalled scikit-learn-1.2.2\r\n",
      "\u001b[31mERROR: pip's dependency resolver does not currently take into account all the packages that are installed. This behaviour is the source of the following dependency conflicts.\r\n",
      "category-encoders 2.7.0 requires scikit-learn<1.6.0,>=1.0.0, but you have scikit-learn 1.6.1 which is incompatible.\r\n",
      "cesium 0.12.4 requires numpy<3.0,>=2.0, but you have numpy 1.26.4 which is incompatible.\u001b[0m\u001b[31m\r\n",
      "\u001b[0mSuccessfully installed scikit-learn-1.6.1\r\n"
     ]
    }
   ],
   "source": [
    "!pip install imbalanced-learn "
   ]
  },
  {
   "cell_type": "code",
   "execution_count": 25,
   "id": "38328403",
   "metadata": {
    "execution": {
     "iopub.execute_input": "2025-07-10T04:33:04.903738Z",
     "iopub.status.busy": "2025-07-10T04:33:04.903387Z",
     "iopub.status.idle": "2025-07-10T04:33:40.388948Z",
     "shell.execute_reply": "2025-07-10T04:33:40.387896Z"
    },
    "papermill": {
     "duration": 35.502142,
     "end_time": "2025-07-10T04:33:40.390681",
     "exception": false,
     "start_time": "2025-07-10T04:33:04.888539",
     "status": "completed"
    },
    "tags": []
   },
   "outputs": [
    {
     "name": "stdout",
     "output_type": "stream",
     "text": [
      "\u001b[2K     \u001b[90m━━━━━━━━━━━━━━━━━━━━━━━━━━━━━━━━━━━━━━━━\u001b[0m \u001b[32m62.1/62.1 kB\u001b[0m \u001b[31m3.0 MB/s\u001b[0m eta \u001b[36m0:00:00\u001b[0m\r\n",
      "\u001b[2K     \u001b[90m━━━━━━━━━━━━━━━━━━━━━━━━━━━━━━━━━━━━━━━━\u001b[0m \u001b[32m61.9/61.9 kB\u001b[0m \u001b[31m3.8 MB/s\u001b[0m eta \u001b[36m0:00:00\u001b[0m\r\n",
      "\u001b[2K   \u001b[90m━━━━━━━━━━━━━━━━━━━━━━━━━━━━━━━━━━━━━━━━\u001b[0m \u001b[32m9.6/9.6 MB\u001b[0m \u001b[31m73.9 MB/s\u001b[0m eta \u001b[36m0:00:00\u001b[0m\r\n",
      "\u001b[2K   \u001b[90m━━━━━━━━━━━━━━━━━━━━━━━━━━━━━━━━━━━━━━━━\u001b[0m \u001b[32m226.0/226.0 kB\u001b[0m \u001b[31m13.2 MB/s\u001b[0m eta \u001b[36m0:00:00\u001b[0m\r\n",
      "\u001b[2K   \u001b[90m━━━━━━━━━━━━━━━━━━━━━━━━━━━━━━━━━━━━━━━━\u001b[0m \u001b[32m307.7/307.7 kB\u001b[0m \u001b[31m15.1 MB/s\u001b[0m eta \u001b[36m0:00:00\u001b[0m\r\n",
      "\u001b[2K   \u001b[90m━━━━━━━━━━━━━━━━━━━━━━━━━━━━━━━━━━━━━━━━\u001b[0m \u001b[32m16.9/16.9 MB\u001b[0m \u001b[31m76.1 MB/s\u001b[0m eta \u001b[36m0:00:00\u001b[0m\r\n",
      "\u001b[2K   \u001b[90m━━━━━━━━━━━━━━━━━━━━━━━━━━━━━━━━━━━━━━━━\u001b[0m \u001b[32m35.3/35.3 MB\u001b[0m \u001b[31m51.2 MB/s\u001b[0m eta \u001b[36m0:00:00\u001b[0m\r\n",
      "\u001b[?25h\u001b[31mERROR: pip's dependency resolver does not currently take into account all the packages that are installed. This behaviour is the source of the following dependency conflicts.\r\n",
      "bigframes 2.8.0 requires google-cloud-bigquery-storage<3.0.0,>=2.30.0, which is not installed.\r\n",
      "gensim 4.3.3 requires numpy<2.0,>=1.18.5, but you have numpy 2.3.1 which is incompatible.\r\n",
      "gensim 4.3.3 requires scipy<1.14.0,>=1.7.0, but you have scipy 1.16.0 which is incompatible.\r\n",
      "mkl-umath 0.1.1 requires numpy<1.27.0,>=1.26.4, but you have numpy 2.3.1 which is incompatible.\r\n",
      "mkl-random 1.2.4 requires numpy<1.27.0,>=1.26.4, but you have numpy 2.3.1 which is incompatible.\r\n",
      "mkl-fft 1.3.8 requires numpy<1.27.0,>=1.26.4, but you have numpy 2.3.1 which is incompatible.\r\n",
      "cupy-cuda12x 13.4.1 requires numpy<2.3,>=1.22, but you have numpy 2.3.1 which is incompatible.\r\n",
      "numba 0.60.0 requires numpy<2.1,>=1.22, but you have numpy 2.3.1 which is incompatible.\r\n",
      "datasets 3.6.0 requires fsspec[http]<=2025.3.0,>=2023.1.0, but you have fsspec 2025.5.1 which is incompatible.\r\n",
      "ydata-profiling 4.16.1 requires numpy<2.2,>=1.16.0, but you have numpy 2.3.1 which is incompatible.\r\n",
      "ydata-profiling 4.16.1 requires scipy<1.16,>=1.4.1, but you have scipy 1.16.0 which is incompatible.\r\n",
      "onnx 1.18.0 requires protobuf>=4.25.1, but you have protobuf 3.20.3 which is incompatible.\r\n",
      "preprocessing 0.1.13 requires nltk==3.2.4, but you have nltk 3.9.1 which is incompatible.\r\n",
      "google-colab 1.0.0 requires google-auth==2.38.0, but you have google-auth 2.40.3 which is incompatible.\r\n",
      "google-colab 1.0.0 requires notebook==6.5.7, but you have notebook 6.5.4 which is incompatible.\r\n",
      "google-colab 1.0.0 requires pandas==2.2.2, but you have pandas 2.2.3 which is incompatible.\r\n",
      "google-colab 1.0.0 requires requests==2.32.3, but you have requests 2.32.4 which is incompatible.\r\n",
      "google-colab 1.0.0 requires tornado==6.4.2, but you have tornado 6.5.1 which is incompatible.\r\n",
      "dopamine-rl 4.1.2 requires gymnasium>=1.0.0, but you have gymnasium 0.29.0 which is incompatible.\r\n",
      "pandas-gbq 0.29.1 requires google-api-core<3.0.0,>=2.10.2, but you have google-api-core 1.34.1 which is incompatible.\r\n",
      "plotnine 0.14.5 requires matplotlib>=3.8.0, but you have matplotlib 3.7.2 which is incompatible.\r\n",
      "tensorflow 2.18.0 requires numpy<2.1.0,>=1.26.0, but you have numpy 2.3.1 which is incompatible.\r\n",
      "bigframes 2.8.0 requires google-cloud-bigquery[bqstorage,pandas]>=3.31.0, but you have google-cloud-bigquery 3.25.0 which is incompatible.\r\n",
      "bigframes 2.8.0 requires rich<14,>=12.4.4, but you have rich 14.0.0 which is incompatible.\r\n",
      "mlxtend 0.23.4 requires scikit-learn>=1.3.1, but you have scikit-learn 1.2.2 which is incompatible.\u001b[0m\u001b[31m\r\n",
      "\u001b[0m"
     ]
    }
   ],
   "source": [
    "!pip install scikit-learn==1.2.2 imbalanced-learn==0.10.1 --force-reinstall --quiet"
   ]
  },
  {
   "cell_type": "code",
   "execution_count": 26,
   "id": "18bd8eaa",
   "metadata": {
    "execution": {
     "iopub.execute_input": "2025-07-10T04:33:40.420748Z",
     "iopub.status.busy": "2025-07-10T04:33:40.420429Z",
     "iopub.status.idle": "2025-07-10T04:33:40.558690Z",
     "shell.execute_reply": "2025-07-10T04:33:40.558004Z"
    },
    "papermill": {
     "duration": 0.155035,
     "end_time": "2025-07-10T04:33:40.560217",
     "exception": false,
     "start_time": "2025-07-10T04:33:40.405182",
     "status": "completed"
    },
    "tags": []
   },
   "outputs": [],
   "source": [
    "from imblearn.over_sampling import SMOTE\n",
    "\n",
    "s = SMOTE(random_state=42)\n",
    "x_resampled, y_resampled = s.fit_resample(x, y)"
   ]
  },
  {
   "cell_type": "code",
   "execution_count": 27,
   "id": "9ae87b3a",
   "metadata": {
    "execution": {
     "iopub.execute_input": "2025-07-10T04:33:40.590323Z",
     "iopub.status.busy": "2025-07-10T04:33:40.589947Z",
     "iopub.status.idle": "2025-07-10T04:33:40.601495Z",
     "shell.execute_reply": "2025-07-10T04:33:40.600770Z"
    },
    "papermill": {
     "duration": 0.02818,
     "end_time": "2025-07-10T04:33:40.602885",
     "exception": false,
     "start_time": "2025-07-10T04:33:40.574705",
     "status": "completed"
    },
    "tags": []
   },
   "outputs": [],
   "source": [
    "s=SMOTE(random_state=42)\n",
    "x,y=s.fit_resample(x,y)"
   ]
  },
  {
   "cell_type": "code",
   "execution_count": 28,
   "id": "e8b75464",
   "metadata": {
    "execution": {
     "iopub.execute_input": "2025-07-10T04:33:40.633532Z",
     "iopub.status.busy": "2025-07-10T04:33:40.633175Z",
     "iopub.status.idle": "2025-07-10T04:33:40.641121Z",
     "shell.execute_reply": "2025-07-10T04:33:40.640441Z"
    },
    "papermill": {
     "duration": 0.024542,
     "end_time": "2025-07-10T04:33:40.642476",
     "exception": false,
     "start_time": "2025-07-10T04:33:40.617934",
     "status": "completed"
    },
    "tags": []
   },
   "outputs": [
    {
     "data": {
      "text/plain": [
       "Loan_Status\n",
       "1    422\n",
       "0    422\n",
       "Name: count, dtype: int64"
      ]
     },
     "execution_count": 28,
     "metadata": {},
     "output_type": "execute_result"
    }
   ],
   "source": [
    "y.value_counts()"
   ]
  },
  {
   "cell_type": "code",
   "execution_count": 29,
   "id": "e90e934d",
   "metadata": {
    "execution": {
     "iopub.execute_input": "2025-07-10T04:33:40.672414Z",
     "iopub.status.busy": "2025-07-10T04:33:40.672104Z",
     "iopub.status.idle": "2025-07-10T04:33:40.677154Z",
     "shell.execute_reply": "2025-07-10T04:33:40.676441Z"
    },
    "papermill": {
     "duration": 0.021596,
     "end_time": "2025-07-10T04:33:40.678422",
     "exception": false,
     "start_time": "2025-07-10T04:33:40.656826",
     "status": "completed"
    },
    "tags": []
   },
   "outputs": [
    {
     "data": {
      "text/plain": [
       "(844,)"
      ]
     },
     "execution_count": 29,
     "metadata": {},
     "output_type": "execute_result"
    }
   ],
   "source": [
    "y.shape"
   ]
  },
  {
   "cell_type": "code",
   "execution_count": 30,
   "id": "ca6d2a49",
   "metadata": {
    "execution": {
     "iopub.execute_input": "2025-07-10T04:33:40.708725Z",
     "iopub.status.busy": "2025-07-10T04:33:40.708403Z",
     "iopub.status.idle": "2025-07-10T04:33:40.714080Z",
     "shell.execute_reply": "2025-07-10T04:33:40.713097Z"
    },
    "papermill": {
     "duration": 0.022424,
     "end_time": "2025-07-10T04:33:40.715454",
     "exception": false,
     "start_time": "2025-07-10T04:33:40.693030",
     "status": "completed"
    },
    "tags": []
   },
   "outputs": [
    {
     "data": {
      "text/plain": [
       "(844, 11)"
      ]
     },
     "execution_count": 30,
     "metadata": {},
     "output_type": "execute_result"
    }
   ],
   "source": [
    "x.shape"
   ]
  },
  {
   "cell_type": "code",
   "execution_count": 31,
   "id": "c792852f",
   "metadata": {
    "execution": {
     "iopub.execute_input": "2025-07-10T04:33:40.746557Z",
     "iopub.status.busy": "2025-07-10T04:33:40.745606Z",
     "iopub.status.idle": "2025-07-10T04:33:40.749843Z",
     "shell.execute_reply": "2025-07-10T04:33:40.749107Z"
    },
    "papermill": {
     "duration": 0.021007,
     "end_time": "2025-07-10T04:33:40.751185",
     "exception": false,
     "start_time": "2025-07-10T04:33:40.730178",
     "status": "completed"
    },
    "tags": []
   },
   "outputs": [],
   "source": [
    "from sklearn.model_selection import train_test_split"
   ]
  },
  {
   "cell_type": "code",
   "execution_count": 32,
   "id": "540f938c",
   "metadata": {
    "execution": {
     "iopub.execute_input": "2025-07-10T04:33:40.782272Z",
     "iopub.status.busy": "2025-07-10T04:33:40.781478Z",
     "iopub.status.idle": "2025-07-10T04:33:40.788712Z",
     "shell.execute_reply": "2025-07-10T04:33:40.788002Z"
    },
    "papermill": {
     "duration": 0.024236,
     "end_time": "2025-07-10T04:33:40.790168",
     "exception": false,
     "start_time": "2025-07-10T04:33:40.765932",
     "status": "completed"
    },
    "tags": []
   },
   "outputs": [],
   "source": [
    "x_train,x_test,y_train,y_test=train_test_split(x,y,test_size=0.2,random_state=42)"
   ]
  },
  {
   "cell_type": "code",
   "execution_count": 33,
   "id": "293f141b",
   "metadata": {
    "execution": {
     "iopub.execute_input": "2025-07-10T04:33:40.820631Z",
     "iopub.status.busy": "2025-07-10T04:33:40.820108Z",
     "iopub.status.idle": "2025-07-10T04:33:40.824339Z",
     "shell.execute_reply": "2025-07-10T04:33:40.823485Z"
    },
    "papermill": {
     "duration": 0.02118,
     "end_time": "2025-07-10T04:33:40.825849",
     "exception": false,
     "start_time": "2025-07-10T04:33:40.804669",
     "status": "completed"
    },
    "tags": []
   },
   "outputs": [],
   "source": [
    "from sklearn.linear_model import LogisticRegression"
   ]
  },
  {
   "cell_type": "code",
   "execution_count": 34,
   "id": "5a6cd3aa",
   "metadata": {
    "execution": {
     "iopub.execute_input": "2025-07-10T04:33:40.856436Z",
     "iopub.status.busy": "2025-07-10T04:33:40.856047Z",
     "iopub.status.idle": "2025-07-10T04:33:41.398371Z",
     "shell.execute_reply": "2025-07-10T04:33:41.397587Z"
    },
    "papermill": {
     "duration": 0.559669,
     "end_time": "2025-07-10T04:33:41.400276",
     "exception": false,
     "start_time": "2025-07-10T04:33:40.840607",
     "status": "completed"
    },
    "tags": []
   },
   "outputs": [
    {
     "data": {
      "text/html": [
       "<style>#sk-container-id-1 {color: black;background-color: white;}#sk-container-id-1 pre{padding: 0;}#sk-container-id-1 div.sk-toggleable {background-color: white;}#sk-container-id-1 label.sk-toggleable__label {cursor: pointer;display: block;width: 100%;margin-bottom: 0;padding: 0.3em;box-sizing: border-box;text-align: center;}#sk-container-id-1 label.sk-toggleable__label-arrow:before {content: \"▸\";float: left;margin-right: 0.25em;color: #696969;}#sk-container-id-1 label.sk-toggleable__label-arrow:hover:before {color: black;}#sk-container-id-1 div.sk-estimator:hover label.sk-toggleable__label-arrow:before {color: black;}#sk-container-id-1 div.sk-toggleable__content {max-height: 0;max-width: 0;overflow: hidden;text-align: left;background-color: #f0f8ff;}#sk-container-id-1 div.sk-toggleable__content pre {margin: 0.2em;color: black;border-radius: 0.25em;background-color: #f0f8ff;}#sk-container-id-1 input.sk-toggleable__control:checked~div.sk-toggleable__content {max-height: 200px;max-width: 100%;overflow: auto;}#sk-container-id-1 input.sk-toggleable__control:checked~label.sk-toggleable__label-arrow:before {content: \"▾\";}#sk-container-id-1 div.sk-estimator input.sk-toggleable__control:checked~label.sk-toggleable__label {background-color: #d4ebff;}#sk-container-id-1 div.sk-label input.sk-toggleable__control:checked~label.sk-toggleable__label {background-color: #d4ebff;}#sk-container-id-1 input.sk-hidden--visually {border: 0;clip: rect(1px 1px 1px 1px);clip: rect(1px, 1px, 1px, 1px);height: 1px;margin: -1px;overflow: hidden;padding: 0;position: absolute;width: 1px;}#sk-container-id-1 div.sk-estimator {font-family: monospace;background-color: #f0f8ff;border: 1px dotted black;border-radius: 0.25em;box-sizing: border-box;margin-bottom: 0.5em;}#sk-container-id-1 div.sk-estimator:hover {background-color: #d4ebff;}#sk-container-id-1 div.sk-parallel-item::after {content: \"\";width: 100%;border-bottom: 1px solid gray;flex-grow: 1;}#sk-container-id-1 div.sk-label:hover label.sk-toggleable__label {background-color: #d4ebff;}#sk-container-id-1 div.sk-serial::before {content: \"\";position: absolute;border-left: 1px solid gray;box-sizing: border-box;top: 0;bottom: 0;left: 50%;z-index: 0;}#sk-container-id-1 div.sk-serial {display: flex;flex-direction: column;align-items: center;background-color: white;padding-right: 0.2em;padding-left: 0.2em;position: relative;}#sk-container-id-1 div.sk-item {position: relative;z-index: 1;}#sk-container-id-1 div.sk-parallel {display: flex;align-items: stretch;justify-content: center;background-color: white;position: relative;}#sk-container-id-1 div.sk-item::before, #sk-container-id-1 div.sk-parallel-item::before {content: \"\";position: absolute;border-left: 1px solid gray;box-sizing: border-box;top: 0;bottom: 0;left: 50%;z-index: -1;}#sk-container-id-1 div.sk-parallel-item {display: flex;flex-direction: column;z-index: 1;position: relative;background-color: white;}#sk-container-id-1 div.sk-parallel-item:first-child::after {align-self: flex-end;width: 50%;}#sk-container-id-1 div.sk-parallel-item:last-child::after {align-self: flex-start;width: 50%;}#sk-container-id-1 div.sk-parallel-item:only-child::after {width: 0;}#sk-container-id-1 div.sk-dashed-wrapped {border: 1px dashed gray;margin: 0 0.4em 0.5em 0.4em;box-sizing: border-box;padding-bottom: 0.4em;background-color: white;}#sk-container-id-1 div.sk-label label {font-family: monospace;font-weight: bold;display: inline-block;line-height: 1.2em;}#sk-container-id-1 div.sk-label-container {text-align: center;}#sk-container-id-1 div.sk-container {/* jupyter's `normalize.less` sets `[hidden] { display: none; }` but bootstrap.min.css set `[hidden] { display: none !important; }` so we also need the `!important` here to be able to override the default hidden behavior on the sphinx rendered scikit-learn.org. See: https://github.com/scikit-learn/scikit-learn/issues/21755 */display: inline-block !important;position: relative;}#sk-container-id-1 div.sk-text-repr-fallback {display: none;}</style><div id=\"sk-container-id-1\" class=\"sk-top-container\"><div class=\"sk-text-repr-fallback\"><pre>LogisticRegression()</pre><b>In a Jupyter environment, please rerun this cell to show the HTML representation or trust the notebook. <br />On GitHub, the HTML representation is unable to render, please try loading this page with nbviewer.org.</b></div><div class=\"sk-container\" hidden><div class=\"sk-item\"><div class=\"sk-estimator sk-toggleable\"><input class=\"sk-toggleable__control sk-hidden--visually\" id=\"sk-estimator-id-1\" type=\"checkbox\" checked><label for=\"sk-estimator-id-1\" class=\"sk-toggleable__label sk-toggleable__label-arrow\">LogisticRegression</label><div class=\"sk-toggleable__content\"><pre>LogisticRegression()</pre></div></div></div></div></div>"
      ],
      "text/plain": [
       "LogisticRegression()"
      ]
     },
     "execution_count": 34,
     "metadata": {},
     "output_type": "execute_result"
    }
   ],
   "source": [
    "lr=LogisticRegression()\n",
    "lr.fit(x_train,y_train)"
   ]
  },
  {
   "cell_type": "code",
   "execution_count": 35,
   "id": "fa57262a",
   "metadata": {
    "execution": {
     "iopub.execute_input": "2025-07-10T04:33:41.451826Z",
     "iopub.status.busy": "2025-07-10T04:33:41.451499Z",
     "iopub.status.idle": "2025-07-10T04:33:41.466538Z",
     "shell.execute_reply": "2025-07-10T04:33:41.464057Z"
    },
    "papermill": {
     "duration": 0.04277,
     "end_time": "2025-07-10T04:33:41.468224",
     "exception": false,
     "start_time": "2025-07-10T04:33:41.425454",
     "status": "completed"
    },
    "tags": []
   },
   "outputs": [
    {
     "data": {
      "text/plain": [
       "68.04733727810651"
      ]
     },
     "execution_count": 35,
     "metadata": {},
     "output_type": "execute_result"
    }
   ],
   "source": [
    "lr.score(x_test,y_test)*100"
   ]
  },
  {
   "cell_type": "code",
   "execution_count": 36,
   "id": "8b6cc3e7",
   "metadata": {
    "execution": {
     "iopub.execute_input": "2025-07-10T04:33:41.515900Z",
     "iopub.status.busy": "2025-07-10T04:33:41.515027Z",
     "iopub.status.idle": "2025-07-10T04:33:41.524154Z",
     "shell.execute_reply": "2025-07-10T04:33:41.523261Z"
    },
    "papermill": {
     "duration": 0.032111,
     "end_time": "2025-07-10T04:33:41.525680",
     "exception": false,
     "start_time": "2025-07-10T04:33:41.493569",
     "status": "completed"
    },
    "tags": []
   },
   "outputs": [
    {
     "data": {
      "text/plain": [
       "76.0"
      ]
     },
     "execution_count": 36,
     "metadata": {},
     "output_type": "execute_result"
    }
   ],
   "source": [
    "lr.score(x_train,y_train)*100"
   ]
  },
  {
   "cell_type": "code",
   "execution_count": 37,
   "id": "8a18915f",
   "metadata": {
    "execution": {
     "iopub.execute_input": "2025-07-10T04:33:41.557118Z",
     "iopub.status.busy": "2025-07-10T04:33:41.556793Z",
     "iopub.status.idle": "2025-07-10T04:33:41.561156Z",
     "shell.execute_reply": "2025-07-10T04:33:41.560307Z"
    },
    "papermill": {
     "duration": 0.021551,
     "end_time": "2025-07-10T04:33:41.562603",
     "exception": false,
     "start_time": "2025-07-10T04:33:41.541052",
     "status": "completed"
    },
    "tags": []
   },
   "outputs": [],
   "source": [
    "from sklearn.ensemble import RandomForestClassifier"
   ]
  },
  {
   "cell_type": "code",
   "execution_count": 38,
   "id": "c1feeabb",
   "metadata": {
    "execution": {
     "iopub.execute_input": "2025-07-10T04:33:41.594372Z",
     "iopub.status.busy": "2025-07-10T04:33:41.594064Z",
     "iopub.status.idle": "2025-07-10T04:33:41.790763Z",
     "shell.execute_reply": "2025-07-10T04:33:41.789886Z"
    },
    "papermill": {
     "duration": 0.214595,
     "end_time": "2025-07-10T04:33:41.792313",
     "exception": false,
     "start_time": "2025-07-10T04:33:41.577718",
     "status": "completed"
    },
    "tags": []
   },
   "outputs": [
    {
     "data": {
      "text/html": [
       "<style>#sk-container-id-2 {color: black;background-color: white;}#sk-container-id-2 pre{padding: 0;}#sk-container-id-2 div.sk-toggleable {background-color: white;}#sk-container-id-2 label.sk-toggleable__label {cursor: pointer;display: block;width: 100%;margin-bottom: 0;padding: 0.3em;box-sizing: border-box;text-align: center;}#sk-container-id-2 label.sk-toggleable__label-arrow:before {content: \"▸\";float: left;margin-right: 0.25em;color: #696969;}#sk-container-id-2 label.sk-toggleable__label-arrow:hover:before {color: black;}#sk-container-id-2 div.sk-estimator:hover label.sk-toggleable__label-arrow:before {color: black;}#sk-container-id-2 div.sk-toggleable__content {max-height: 0;max-width: 0;overflow: hidden;text-align: left;background-color: #f0f8ff;}#sk-container-id-2 div.sk-toggleable__content pre {margin: 0.2em;color: black;border-radius: 0.25em;background-color: #f0f8ff;}#sk-container-id-2 input.sk-toggleable__control:checked~div.sk-toggleable__content {max-height: 200px;max-width: 100%;overflow: auto;}#sk-container-id-2 input.sk-toggleable__control:checked~label.sk-toggleable__label-arrow:before {content: \"▾\";}#sk-container-id-2 div.sk-estimator input.sk-toggleable__control:checked~label.sk-toggleable__label {background-color: #d4ebff;}#sk-container-id-2 div.sk-label input.sk-toggleable__control:checked~label.sk-toggleable__label {background-color: #d4ebff;}#sk-container-id-2 input.sk-hidden--visually {border: 0;clip: rect(1px 1px 1px 1px);clip: rect(1px, 1px, 1px, 1px);height: 1px;margin: -1px;overflow: hidden;padding: 0;position: absolute;width: 1px;}#sk-container-id-2 div.sk-estimator {font-family: monospace;background-color: #f0f8ff;border: 1px dotted black;border-radius: 0.25em;box-sizing: border-box;margin-bottom: 0.5em;}#sk-container-id-2 div.sk-estimator:hover {background-color: #d4ebff;}#sk-container-id-2 div.sk-parallel-item::after {content: \"\";width: 100%;border-bottom: 1px solid gray;flex-grow: 1;}#sk-container-id-2 div.sk-label:hover label.sk-toggleable__label {background-color: #d4ebff;}#sk-container-id-2 div.sk-serial::before {content: \"\";position: absolute;border-left: 1px solid gray;box-sizing: border-box;top: 0;bottom: 0;left: 50%;z-index: 0;}#sk-container-id-2 div.sk-serial {display: flex;flex-direction: column;align-items: center;background-color: white;padding-right: 0.2em;padding-left: 0.2em;position: relative;}#sk-container-id-2 div.sk-item {position: relative;z-index: 1;}#sk-container-id-2 div.sk-parallel {display: flex;align-items: stretch;justify-content: center;background-color: white;position: relative;}#sk-container-id-2 div.sk-item::before, #sk-container-id-2 div.sk-parallel-item::before {content: \"\";position: absolute;border-left: 1px solid gray;box-sizing: border-box;top: 0;bottom: 0;left: 50%;z-index: -1;}#sk-container-id-2 div.sk-parallel-item {display: flex;flex-direction: column;z-index: 1;position: relative;background-color: white;}#sk-container-id-2 div.sk-parallel-item:first-child::after {align-self: flex-end;width: 50%;}#sk-container-id-2 div.sk-parallel-item:last-child::after {align-self: flex-start;width: 50%;}#sk-container-id-2 div.sk-parallel-item:only-child::after {width: 0;}#sk-container-id-2 div.sk-dashed-wrapped {border: 1px dashed gray;margin: 0 0.4em 0.5em 0.4em;box-sizing: border-box;padding-bottom: 0.4em;background-color: white;}#sk-container-id-2 div.sk-label label {font-family: monospace;font-weight: bold;display: inline-block;line-height: 1.2em;}#sk-container-id-2 div.sk-label-container {text-align: center;}#sk-container-id-2 div.sk-container {/* jupyter's `normalize.less` sets `[hidden] { display: none; }` but bootstrap.min.css set `[hidden] { display: none !important; }` so we also need the `!important` here to be able to override the default hidden behavior on the sphinx rendered scikit-learn.org. See: https://github.com/scikit-learn/scikit-learn/issues/21755 */display: inline-block !important;position: relative;}#sk-container-id-2 div.sk-text-repr-fallback {display: none;}</style><div id=\"sk-container-id-2\" class=\"sk-top-container\"><div class=\"sk-text-repr-fallback\"><pre>RandomForestClassifier()</pre><b>In a Jupyter environment, please rerun this cell to show the HTML representation or trust the notebook. <br />On GitHub, the HTML representation is unable to render, please try loading this page with nbviewer.org.</b></div><div class=\"sk-container\" hidden><div class=\"sk-item\"><div class=\"sk-estimator sk-toggleable\"><input class=\"sk-toggleable__control sk-hidden--visually\" id=\"sk-estimator-id-2\" type=\"checkbox\" checked><label for=\"sk-estimator-id-2\" class=\"sk-toggleable__label sk-toggleable__label-arrow\">RandomForestClassifier</label><div class=\"sk-toggleable__content\"><pre>RandomForestClassifier()</pre></div></div></div></div></div>"
      ],
      "text/plain": [
       "RandomForestClassifier()"
      ]
     },
     "execution_count": 38,
     "metadata": {},
     "output_type": "execute_result"
    }
   ],
   "source": [
    "r=RandomForestClassifier()\n",
    "r.fit(x_train,y_train)"
   ]
  },
  {
   "cell_type": "code",
   "execution_count": 39,
   "id": "7abc0c34",
   "metadata": {
    "execution": {
     "iopub.execute_input": "2025-07-10T04:33:41.824529Z",
     "iopub.status.busy": "2025-07-10T04:33:41.824223Z",
     "iopub.status.idle": "2025-07-10T04:33:41.840410Z",
     "shell.execute_reply": "2025-07-10T04:33:41.839488Z"
    },
    "papermill": {
     "duration": 0.034241,
     "end_time": "2025-07-10T04:33:41.842064",
     "exception": false,
     "start_time": "2025-07-10T04:33:41.807823",
     "status": "completed"
    },
    "tags": []
   },
   "outputs": [
    {
     "data": {
      "text/plain": [
       "79.28994082840237"
      ]
     },
     "execution_count": 39,
     "metadata": {},
     "output_type": "execute_result"
    }
   ],
   "source": [
    "r.score(x_test,y_test)*100"
   ]
  },
  {
   "cell_type": "code",
   "execution_count": 40,
   "id": "011cc503",
   "metadata": {
    "execution": {
     "iopub.execute_input": "2025-07-10T04:33:41.874801Z",
     "iopub.status.busy": "2025-07-10T04:33:41.874472Z",
     "iopub.status.idle": "2025-07-10T04:33:41.896286Z",
     "shell.execute_reply": "2025-07-10T04:33:41.895522Z"
    },
    "papermill": {
     "duration": 0.040418,
     "end_time": "2025-07-10T04:33:41.898075",
     "exception": false,
     "start_time": "2025-07-10T04:33:41.857657",
     "status": "completed"
    },
    "tags": []
   },
   "outputs": [
    {
     "data": {
      "text/plain": [
       "100.0"
      ]
     },
     "execution_count": 40,
     "metadata": {},
     "output_type": "execute_result"
    }
   ],
   "source": [
    "r.score(x_train,y_train)*100"
   ]
  },
  {
   "cell_type": "code",
   "execution_count": 41,
   "id": "3503db20",
   "metadata": {
    "execution": {
     "iopub.execute_input": "2025-07-10T04:33:41.930608Z",
     "iopub.status.busy": "2025-07-10T04:33:41.930241Z",
     "iopub.status.idle": "2025-07-10T04:33:41.934374Z",
     "shell.execute_reply": "2025-07-10T04:33:41.933508Z"
    },
    "papermill": {
     "duration": 0.021883,
     "end_time": "2025-07-10T04:33:41.935719",
     "exception": false,
     "start_time": "2025-07-10T04:33:41.913836",
     "status": "completed"
    },
    "tags": []
   },
   "outputs": [],
   "source": [
    "from sklearn.tree import DecisionTreeClassifier"
   ]
  },
  {
   "cell_type": "code",
   "execution_count": 42,
   "id": "a015877e",
   "metadata": {
    "execution": {
     "iopub.execute_input": "2025-07-10T04:33:41.968427Z",
     "iopub.status.busy": "2025-07-10T04:33:41.967770Z",
     "iopub.status.idle": "2025-07-10T04:33:41.978768Z",
     "shell.execute_reply": "2025-07-10T04:33:41.977745Z"
    },
    "papermill": {
     "duration": 0.029191,
     "end_time": "2025-07-10T04:33:41.980386",
     "exception": false,
     "start_time": "2025-07-10T04:33:41.951195",
     "status": "completed"
    },
    "tags": []
   },
   "outputs": [
    {
     "data": {
      "text/html": [
       "<style>#sk-container-id-3 {color: black;background-color: white;}#sk-container-id-3 pre{padding: 0;}#sk-container-id-3 div.sk-toggleable {background-color: white;}#sk-container-id-3 label.sk-toggleable__label {cursor: pointer;display: block;width: 100%;margin-bottom: 0;padding: 0.3em;box-sizing: border-box;text-align: center;}#sk-container-id-3 label.sk-toggleable__label-arrow:before {content: \"▸\";float: left;margin-right: 0.25em;color: #696969;}#sk-container-id-3 label.sk-toggleable__label-arrow:hover:before {color: black;}#sk-container-id-3 div.sk-estimator:hover label.sk-toggleable__label-arrow:before {color: black;}#sk-container-id-3 div.sk-toggleable__content {max-height: 0;max-width: 0;overflow: hidden;text-align: left;background-color: #f0f8ff;}#sk-container-id-3 div.sk-toggleable__content pre {margin: 0.2em;color: black;border-radius: 0.25em;background-color: #f0f8ff;}#sk-container-id-3 input.sk-toggleable__control:checked~div.sk-toggleable__content {max-height: 200px;max-width: 100%;overflow: auto;}#sk-container-id-3 input.sk-toggleable__control:checked~label.sk-toggleable__label-arrow:before {content: \"▾\";}#sk-container-id-3 div.sk-estimator input.sk-toggleable__control:checked~label.sk-toggleable__label {background-color: #d4ebff;}#sk-container-id-3 div.sk-label input.sk-toggleable__control:checked~label.sk-toggleable__label {background-color: #d4ebff;}#sk-container-id-3 input.sk-hidden--visually {border: 0;clip: rect(1px 1px 1px 1px);clip: rect(1px, 1px, 1px, 1px);height: 1px;margin: -1px;overflow: hidden;padding: 0;position: absolute;width: 1px;}#sk-container-id-3 div.sk-estimator {font-family: monospace;background-color: #f0f8ff;border: 1px dotted black;border-radius: 0.25em;box-sizing: border-box;margin-bottom: 0.5em;}#sk-container-id-3 div.sk-estimator:hover {background-color: #d4ebff;}#sk-container-id-3 div.sk-parallel-item::after {content: \"\";width: 100%;border-bottom: 1px solid gray;flex-grow: 1;}#sk-container-id-3 div.sk-label:hover label.sk-toggleable__label {background-color: #d4ebff;}#sk-container-id-3 div.sk-serial::before {content: \"\";position: absolute;border-left: 1px solid gray;box-sizing: border-box;top: 0;bottom: 0;left: 50%;z-index: 0;}#sk-container-id-3 div.sk-serial {display: flex;flex-direction: column;align-items: center;background-color: white;padding-right: 0.2em;padding-left: 0.2em;position: relative;}#sk-container-id-3 div.sk-item {position: relative;z-index: 1;}#sk-container-id-3 div.sk-parallel {display: flex;align-items: stretch;justify-content: center;background-color: white;position: relative;}#sk-container-id-3 div.sk-item::before, #sk-container-id-3 div.sk-parallel-item::before {content: \"\";position: absolute;border-left: 1px solid gray;box-sizing: border-box;top: 0;bottom: 0;left: 50%;z-index: -1;}#sk-container-id-3 div.sk-parallel-item {display: flex;flex-direction: column;z-index: 1;position: relative;background-color: white;}#sk-container-id-3 div.sk-parallel-item:first-child::after {align-self: flex-end;width: 50%;}#sk-container-id-3 div.sk-parallel-item:last-child::after {align-self: flex-start;width: 50%;}#sk-container-id-3 div.sk-parallel-item:only-child::after {width: 0;}#sk-container-id-3 div.sk-dashed-wrapped {border: 1px dashed gray;margin: 0 0.4em 0.5em 0.4em;box-sizing: border-box;padding-bottom: 0.4em;background-color: white;}#sk-container-id-3 div.sk-label label {font-family: monospace;font-weight: bold;display: inline-block;line-height: 1.2em;}#sk-container-id-3 div.sk-label-container {text-align: center;}#sk-container-id-3 div.sk-container {/* jupyter's `normalize.less` sets `[hidden] { display: none; }` but bootstrap.min.css set `[hidden] { display: none !important; }` so we also need the `!important` here to be able to override the default hidden behavior on the sphinx rendered scikit-learn.org. See: https://github.com/scikit-learn/scikit-learn/issues/21755 */display: inline-block !important;position: relative;}#sk-container-id-3 div.sk-text-repr-fallback {display: none;}</style><div id=\"sk-container-id-3\" class=\"sk-top-container\"><div class=\"sk-text-repr-fallback\"><pre>DecisionTreeClassifier()</pre><b>In a Jupyter environment, please rerun this cell to show the HTML representation or trust the notebook. <br />On GitHub, the HTML representation is unable to render, please try loading this page with nbviewer.org.</b></div><div class=\"sk-container\" hidden><div class=\"sk-item\"><div class=\"sk-estimator sk-toggleable\"><input class=\"sk-toggleable__control sk-hidden--visually\" id=\"sk-estimator-id-3\" type=\"checkbox\" checked><label for=\"sk-estimator-id-3\" class=\"sk-toggleable__label sk-toggleable__label-arrow\">DecisionTreeClassifier</label><div class=\"sk-toggleable__content\"><pre>DecisionTreeClassifier()</pre></div></div></div></div></div>"
      ],
      "text/plain": [
       "DecisionTreeClassifier()"
      ]
     },
     "execution_count": 42,
     "metadata": {},
     "output_type": "execute_result"
    }
   ],
   "source": [
    "d=DecisionTreeClassifier()\n",
    "d.fit(x_train,y_train)"
   ]
  },
  {
   "cell_type": "code",
   "execution_count": 43,
   "id": "7ded8470",
   "metadata": {
    "execution": {
     "iopub.execute_input": "2025-07-10T04:33:42.013414Z",
     "iopub.status.busy": "2025-07-10T04:33:42.013117Z",
     "iopub.status.idle": "2025-07-10T04:33:42.022225Z",
     "shell.execute_reply": "2025-07-10T04:33:42.021452Z"
    },
    "papermill": {
     "duration": 0.02772,
     "end_time": "2025-07-10T04:33:42.023938",
     "exception": false,
     "start_time": "2025-07-10T04:33:41.996218",
     "status": "completed"
    },
    "tags": []
   },
   "outputs": [
    {
     "data": {
      "text/plain": [
       "78.10650887573965"
      ]
     },
     "execution_count": 43,
     "metadata": {},
     "output_type": "execute_result"
    }
   ],
   "source": [
    "d.score(x_test,y_test)*100"
   ]
  },
  {
   "cell_type": "code",
   "execution_count": 44,
   "id": "a140458b",
   "metadata": {
    "execution": {
     "iopub.execute_input": "2025-07-10T04:33:42.056665Z",
     "iopub.status.busy": "2025-07-10T04:33:42.056101Z",
     "iopub.status.idle": "2025-07-10T04:33:42.064859Z",
     "shell.execute_reply": "2025-07-10T04:33:42.063988Z"
    },
    "papermill": {
     "duration": 0.026507,
     "end_time": "2025-07-10T04:33:42.066196",
     "exception": false,
     "start_time": "2025-07-10T04:33:42.039689",
     "status": "completed"
    },
    "tags": []
   },
   "outputs": [
    {
     "data": {
      "text/plain": [
       "100.0"
      ]
     },
     "execution_count": 44,
     "metadata": {},
     "output_type": "execute_result"
    }
   ],
   "source": [
    "d.score(x_train,y_train)*100"
   ]
  },
  {
   "cell_type": "code",
   "execution_count": 45,
   "id": "6fbe802e",
   "metadata": {
    "execution": {
     "iopub.execute_input": "2025-07-10T04:33:42.100341Z",
     "iopub.status.busy": "2025-07-10T04:33:42.100042Z",
     "iopub.status.idle": "2025-07-10T04:33:42.104161Z",
     "shell.execute_reply": "2025-07-10T04:33:42.103339Z"
    },
    "papermill": {
     "duration": 0.023676,
     "end_time": "2025-07-10T04:33:42.105602",
     "exception": false,
     "start_time": "2025-07-10T04:33:42.081926",
     "status": "completed"
    },
    "tags": []
   },
   "outputs": [],
   "source": [
    "from sklearn.neighbors import KNeighborsClassifier"
   ]
  },
  {
   "cell_type": "code",
   "execution_count": 46,
   "id": "ef6bfbbb",
   "metadata": {
    "execution": {
     "iopub.execute_input": "2025-07-10T04:33:42.138446Z",
     "iopub.status.busy": "2025-07-10T04:33:42.138161Z",
     "iopub.status.idle": "2025-07-10T04:33:42.142336Z",
     "shell.execute_reply": "2025-07-10T04:33:42.141382Z"
    },
    "papermill": {
     "duration": 0.022339,
     "end_time": "2025-07-10T04:33:42.143765",
     "exception": false,
     "start_time": "2025-07-10T04:33:42.121426",
     "status": "completed"
    },
    "tags": []
   },
   "outputs": [],
   "source": [
    "k=KNeighborsClassifier()"
   ]
  },
  {
   "cell_type": "code",
   "execution_count": 47,
   "id": "bed3a4dc",
   "metadata": {
    "execution": {
     "iopub.execute_input": "2025-07-10T04:33:42.176827Z",
     "iopub.status.busy": "2025-07-10T04:33:42.176122Z",
     "iopub.status.idle": "2025-07-10T04:33:42.185991Z",
     "shell.execute_reply": "2025-07-10T04:33:42.185327Z"
    },
    "papermill": {
     "duration": 0.027768,
     "end_time": "2025-07-10T04:33:42.187347",
     "exception": false,
     "start_time": "2025-07-10T04:33:42.159579",
     "status": "completed"
    },
    "tags": []
   },
   "outputs": [
    {
     "data": {
      "text/html": [
       "<style>#sk-container-id-4 {color: black;background-color: white;}#sk-container-id-4 pre{padding: 0;}#sk-container-id-4 div.sk-toggleable {background-color: white;}#sk-container-id-4 label.sk-toggleable__label {cursor: pointer;display: block;width: 100%;margin-bottom: 0;padding: 0.3em;box-sizing: border-box;text-align: center;}#sk-container-id-4 label.sk-toggleable__label-arrow:before {content: \"▸\";float: left;margin-right: 0.25em;color: #696969;}#sk-container-id-4 label.sk-toggleable__label-arrow:hover:before {color: black;}#sk-container-id-4 div.sk-estimator:hover label.sk-toggleable__label-arrow:before {color: black;}#sk-container-id-4 div.sk-toggleable__content {max-height: 0;max-width: 0;overflow: hidden;text-align: left;background-color: #f0f8ff;}#sk-container-id-4 div.sk-toggleable__content pre {margin: 0.2em;color: black;border-radius: 0.25em;background-color: #f0f8ff;}#sk-container-id-4 input.sk-toggleable__control:checked~div.sk-toggleable__content {max-height: 200px;max-width: 100%;overflow: auto;}#sk-container-id-4 input.sk-toggleable__control:checked~label.sk-toggleable__label-arrow:before {content: \"▾\";}#sk-container-id-4 div.sk-estimator input.sk-toggleable__control:checked~label.sk-toggleable__label {background-color: #d4ebff;}#sk-container-id-4 div.sk-label input.sk-toggleable__control:checked~label.sk-toggleable__label {background-color: #d4ebff;}#sk-container-id-4 input.sk-hidden--visually {border: 0;clip: rect(1px 1px 1px 1px);clip: rect(1px, 1px, 1px, 1px);height: 1px;margin: -1px;overflow: hidden;padding: 0;position: absolute;width: 1px;}#sk-container-id-4 div.sk-estimator {font-family: monospace;background-color: #f0f8ff;border: 1px dotted black;border-radius: 0.25em;box-sizing: border-box;margin-bottom: 0.5em;}#sk-container-id-4 div.sk-estimator:hover {background-color: #d4ebff;}#sk-container-id-4 div.sk-parallel-item::after {content: \"\";width: 100%;border-bottom: 1px solid gray;flex-grow: 1;}#sk-container-id-4 div.sk-label:hover label.sk-toggleable__label {background-color: #d4ebff;}#sk-container-id-4 div.sk-serial::before {content: \"\";position: absolute;border-left: 1px solid gray;box-sizing: border-box;top: 0;bottom: 0;left: 50%;z-index: 0;}#sk-container-id-4 div.sk-serial {display: flex;flex-direction: column;align-items: center;background-color: white;padding-right: 0.2em;padding-left: 0.2em;position: relative;}#sk-container-id-4 div.sk-item {position: relative;z-index: 1;}#sk-container-id-4 div.sk-parallel {display: flex;align-items: stretch;justify-content: center;background-color: white;position: relative;}#sk-container-id-4 div.sk-item::before, #sk-container-id-4 div.sk-parallel-item::before {content: \"\";position: absolute;border-left: 1px solid gray;box-sizing: border-box;top: 0;bottom: 0;left: 50%;z-index: -1;}#sk-container-id-4 div.sk-parallel-item {display: flex;flex-direction: column;z-index: 1;position: relative;background-color: white;}#sk-container-id-4 div.sk-parallel-item:first-child::after {align-self: flex-end;width: 50%;}#sk-container-id-4 div.sk-parallel-item:last-child::after {align-self: flex-start;width: 50%;}#sk-container-id-4 div.sk-parallel-item:only-child::after {width: 0;}#sk-container-id-4 div.sk-dashed-wrapped {border: 1px dashed gray;margin: 0 0.4em 0.5em 0.4em;box-sizing: border-box;padding-bottom: 0.4em;background-color: white;}#sk-container-id-4 div.sk-label label {font-family: monospace;font-weight: bold;display: inline-block;line-height: 1.2em;}#sk-container-id-4 div.sk-label-container {text-align: center;}#sk-container-id-4 div.sk-container {/* jupyter's `normalize.less` sets `[hidden] { display: none; }` but bootstrap.min.css set `[hidden] { display: none !important; }` so we also need the `!important` here to be able to override the default hidden behavior on the sphinx rendered scikit-learn.org. See: https://github.com/scikit-learn/scikit-learn/issues/21755 */display: inline-block !important;position: relative;}#sk-container-id-4 div.sk-text-repr-fallback {display: none;}</style><div id=\"sk-container-id-4\" class=\"sk-top-container\"><div class=\"sk-text-repr-fallback\"><pre>KNeighborsClassifier()</pre><b>In a Jupyter environment, please rerun this cell to show the HTML representation or trust the notebook. <br />On GitHub, the HTML representation is unable to render, please try loading this page with nbviewer.org.</b></div><div class=\"sk-container\" hidden><div class=\"sk-item\"><div class=\"sk-estimator sk-toggleable\"><input class=\"sk-toggleable__control sk-hidden--visually\" id=\"sk-estimator-id-4\" type=\"checkbox\" checked><label for=\"sk-estimator-id-4\" class=\"sk-toggleable__label sk-toggleable__label-arrow\">KNeighborsClassifier</label><div class=\"sk-toggleable__content\"><pre>KNeighborsClassifier()</pre></div></div></div></div></div>"
      ],
      "text/plain": [
       "KNeighborsClassifier()"
      ]
     },
     "execution_count": 47,
     "metadata": {},
     "output_type": "execute_result"
    }
   ],
   "source": [
    "k.fit(x_train,y_train)"
   ]
  },
  {
   "cell_type": "code",
   "execution_count": 48,
   "id": "7bc5ee88",
   "metadata": {
    "execution": {
     "iopub.execute_input": "2025-07-10T04:33:42.221080Z",
     "iopub.status.busy": "2025-07-10T04:33:42.220728Z",
     "iopub.status.idle": "2025-07-10T04:33:42.238024Z",
     "shell.execute_reply": "2025-07-10T04:33:42.237286Z"
    },
    "papermill": {
     "duration": 0.03603,
     "end_time": "2025-07-10T04:33:42.239360",
     "exception": false,
     "start_time": "2025-07-10T04:33:42.203330",
     "status": "completed"
    },
    "tags": []
   },
   "outputs": [
    {
     "data": {
      "text/plain": [
       "65.08875739644971"
      ]
     },
     "execution_count": 48,
     "metadata": {},
     "output_type": "execute_result"
    }
   ],
   "source": [
    "k.score(x_test,y_test)*100"
   ]
  },
  {
   "cell_type": "code",
   "execution_count": 49,
   "id": "5c5d21bb",
   "metadata": {
    "execution": {
     "iopub.execute_input": "2025-07-10T04:33:42.272401Z",
     "iopub.status.busy": "2025-07-10T04:33:42.272086Z",
     "iopub.status.idle": "2025-07-10T04:33:42.312749Z",
     "shell.execute_reply": "2025-07-10T04:33:42.311846Z"
    },
    "papermill": {
     "duration": 0.058952,
     "end_time": "2025-07-10T04:33:42.314250",
     "exception": false,
     "start_time": "2025-07-10T04:33:42.255298",
     "status": "completed"
    },
    "tags": []
   },
   "outputs": [
    {
     "data": {
      "text/plain": [
       "75.70370370370371"
      ]
     },
     "execution_count": 49,
     "metadata": {},
     "output_type": "execute_result"
    }
   ],
   "source": [
    "k.score(x_train,y_train)*100"
   ]
  },
  {
   "cell_type": "code",
   "execution_count": 50,
   "id": "c906fcf6",
   "metadata": {
    "execution": {
     "iopub.execute_input": "2025-07-10T04:33:42.347733Z",
     "iopub.status.busy": "2025-07-10T04:33:42.347440Z",
     "iopub.status.idle": "2025-07-10T04:33:42.351334Z",
     "shell.execute_reply": "2025-07-10T04:33:42.350616Z"
    },
    "papermill": {
     "duration": 0.022386,
     "end_time": "2025-07-10T04:33:42.352653",
     "exception": false,
     "start_time": "2025-07-10T04:33:42.330267",
     "status": "completed"
    },
    "tags": []
   },
   "outputs": [],
   "source": [
    "from sklearn.ensemble import VotingClassifier"
   ]
  },
  {
   "cell_type": "code",
   "execution_count": 51,
   "id": "1138b008",
   "metadata": {
    "execution": {
     "iopub.execute_input": "2025-07-10T04:33:42.386390Z",
     "iopub.status.busy": "2025-07-10T04:33:42.386075Z",
     "iopub.status.idle": "2025-07-10T04:33:42.592576Z",
     "shell.execute_reply": "2025-07-10T04:33:42.591728Z"
    },
    "papermill": {
     "duration": 0.225163,
     "end_time": "2025-07-10T04:33:42.594166",
     "exception": false,
     "start_time": "2025-07-10T04:33:42.369003",
     "status": "completed"
    },
    "tags": []
   },
   "outputs": [
    {
     "data": {
      "text/html": [
       "<style>#sk-container-id-5 {color: black;background-color: white;}#sk-container-id-5 pre{padding: 0;}#sk-container-id-5 div.sk-toggleable {background-color: white;}#sk-container-id-5 label.sk-toggleable__label {cursor: pointer;display: block;width: 100%;margin-bottom: 0;padding: 0.3em;box-sizing: border-box;text-align: center;}#sk-container-id-5 label.sk-toggleable__label-arrow:before {content: \"▸\";float: left;margin-right: 0.25em;color: #696969;}#sk-container-id-5 label.sk-toggleable__label-arrow:hover:before {color: black;}#sk-container-id-5 div.sk-estimator:hover label.sk-toggleable__label-arrow:before {color: black;}#sk-container-id-5 div.sk-toggleable__content {max-height: 0;max-width: 0;overflow: hidden;text-align: left;background-color: #f0f8ff;}#sk-container-id-5 div.sk-toggleable__content pre {margin: 0.2em;color: black;border-radius: 0.25em;background-color: #f0f8ff;}#sk-container-id-5 input.sk-toggleable__control:checked~div.sk-toggleable__content {max-height: 200px;max-width: 100%;overflow: auto;}#sk-container-id-5 input.sk-toggleable__control:checked~label.sk-toggleable__label-arrow:before {content: \"▾\";}#sk-container-id-5 div.sk-estimator input.sk-toggleable__control:checked~label.sk-toggleable__label {background-color: #d4ebff;}#sk-container-id-5 div.sk-label input.sk-toggleable__control:checked~label.sk-toggleable__label {background-color: #d4ebff;}#sk-container-id-5 input.sk-hidden--visually {border: 0;clip: rect(1px 1px 1px 1px);clip: rect(1px, 1px, 1px, 1px);height: 1px;margin: -1px;overflow: hidden;padding: 0;position: absolute;width: 1px;}#sk-container-id-5 div.sk-estimator {font-family: monospace;background-color: #f0f8ff;border: 1px dotted black;border-radius: 0.25em;box-sizing: border-box;margin-bottom: 0.5em;}#sk-container-id-5 div.sk-estimator:hover {background-color: #d4ebff;}#sk-container-id-5 div.sk-parallel-item::after {content: \"\";width: 100%;border-bottom: 1px solid gray;flex-grow: 1;}#sk-container-id-5 div.sk-label:hover label.sk-toggleable__label {background-color: #d4ebff;}#sk-container-id-5 div.sk-serial::before {content: \"\";position: absolute;border-left: 1px solid gray;box-sizing: border-box;top: 0;bottom: 0;left: 50%;z-index: 0;}#sk-container-id-5 div.sk-serial {display: flex;flex-direction: column;align-items: center;background-color: white;padding-right: 0.2em;padding-left: 0.2em;position: relative;}#sk-container-id-5 div.sk-item {position: relative;z-index: 1;}#sk-container-id-5 div.sk-parallel {display: flex;align-items: stretch;justify-content: center;background-color: white;position: relative;}#sk-container-id-5 div.sk-item::before, #sk-container-id-5 div.sk-parallel-item::before {content: \"\";position: absolute;border-left: 1px solid gray;box-sizing: border-box;top: 0;bottom: 0;left: 50%;z-index: -1;}#sk-container-id-5 div.sk-parallel-item {display: flex;flex-direction: column;z-index: 1;position: relative;background-color: white;}#sk-container-id-5 div.sk-parallel-item:first-child::after {align-self: flex-end;width: 50%;}#sk-container-id-5 div.sk-parallel-item:last-child::after {align-self: flex-start;width: 50%;}#sk-container-id-5 div.sk-parallel-item:only-child::after {width: 0;}#sk-container-id-5 div.sk-dashed-wrapped {border: 1px dashed gray;margin: 0 0.4em 0.5em 0.4em;box-sizing: border-box;padding-bottom: 0.4em;background-color: white;}#sk-container-id-5 div.sk-label label {font-family: monospace;font-weight: bold;display: inline-block;line-height: 1.2em;}#sk-container-id-5 div.sk-label-container {text-align: center;}#sk-container-id-5 div.sk-container {/* jupyter's `normalize.less` sets `[hidden] { display: none; }` but bootstrap.min.css set `[hidden] { display: none !important; }` so we also need the `!important` here to be able to override the default hidden behavior on the sphinx rendered scikit-learn.org. See: https://github.com/scikit-learn/scikit-learn/issues/21755 */display: inline-block !important;position: relative;}#sk-container-id-5 div.sk-text-repr-fallback {display: none;}</style><div id=\"sk-container-id-5\" class=\"sk-top-container\"><div class=\"sk-text-repr-fallback\"><pre>VotingClassifier(estimators=[(&#x27;rf&#x27;, RandomForestClassifier()),\n",
       "                             (&#x27;dt&#x27;, DecisionTreeClassifier()),\n",
       "                             (&#x27;knn&#x27;, KNeighborsClassifier())],\n",
       "                 voting=&#x27;soft&#x27;)</pre><b>In a Jupyter environment, please rerun this cell to show the HTML representation or trust the notebook. <br />On GitHub, the HTML representation is unable to render, please try loading this page with nbviewer.org.</b></div><div class=\"sk-container\" hidden><div class=\"sk-item sk-dashed-wrapped\"><div class=\"sk-label-container\"><div class=\"sk-label sk-toggleable\"><input class=\"sk-toggleable__control sk-hidden--visually\" id=\"sk-estimator-id-5\" type=\"checkbox\" ><label for=\"sk-estimator-id-5\" class=\"sk-toggleable__label sk-toggleable__label-arrow\">VotingClassifier</label><div class=\"sk-toggleable__content\"><pre>VotingClassifier(estimators=[(&#x27;rf&#x27;, RandomForestClassifier()),\n",
       "                             (&#x27;dt&#x27;, DecisionTreeClassifier()),\n",
       "                             (&#x27;knn&#x27;, KNeighborsClassifier())],\n",
       "                 voting=&#x27;soft&#x27;)</pre></div></div></div><div class=\"sk-parallel\"><div class=\"sk-parallel-item\"><div class=\"sk-item\"><div class=\"sk-label-container\"><div class=\"sk-label sk-toggleable\"><label>rf</label></div></div><div class=\"sk-serial\"><div class=\"sk-item\"><div class=\"sk-estimator sk-toggleable\"><input class=\"sk-toggleable__control sk-hidden--visually\" id=\"sk-estimator-id-6\" type=\"checkbox\" ><label for=\"sk-estimator-id-6\" class=\"sk-toggleable__label sk-toggleable__label-arrow\">RandomForestClassifier</label><div class=\"sk-toggleable__content\"><pre>RandomForestClassifier()</pre></div></div></div></div></div></div><div class=\"sk-parallel-item\"><div class=\"sk-item\"><div class=\"sk-label-container\"><div class=\"sk-label sk-toggleable\"><label>dt</label></div></div><div class=\"sk-serial\"><div class=\"sk-item\"><div class=\"sk-estimator sk-toggleable\"><input class=\"sk-toggleable__control sk-hidden--visually\" id=\"sk-estimator-id-7\" type=\"checkbox\" ><label for=\"sk-estimator-id-7\" class=\"sk-toggleable__label sk-toggleable__label-arrow\">DecisionTreeClassifier</label><div class=\"sk-toggleable__content\"><pre>DecisionTreeClassifier()</pre></div></div></div></div></div></div><div class=\"sk-parallel-item\"><div class=\"sk-item\"><div class=\"sk-label-container\"><div class=\"sk-label sk-toggleable\"><label>knn</label></div></div><div class=\"sk-serial\"><div class=\"sk-item\"><div class=\"sk-estimator sk-toggleable\"><input class=\"sk-toggleable__control sk-hidden--visually\" id=\"sk-estimator-id-8\" type=\"checkbox\" ><label for=\"sk-estimator-id-8\" class=\"sk-toggleable__label sk-toggleable__label-arrow\">KNeighborsClassifier</label><div class=\"sk-toggleable__content\"><pre>KNeighborsClassifier()</pre></div></div></div></div></div></div></div></div></div></div>"
      ],
      "text/plain": [
       "VotingClassifier(estimators=[('rf', RandomForestClassifier()),\n",
       "                             ('dt', DecisionTreeClassifier()),\n",
       "                             ('knn', KNeighborsClassifier())],\n",
       "                 voting='soft')"
      ]
     },
     "execution_count": 51,
     "metadata": {},
     "output_type": "execute_result"
    }
   ],
   "source": [
    "model=VotingClassifier(estimators=[('rf',r),('dt',d),('knn',k)],voting='soft')\n",
    "model.fit(x_train,y_train)"
   ]
  },
  {
   "cell_type": "code",
   "execution_count": 52,
   "id": "2bbac30e",
   "metadata": {
    "execution": {
     "iopub.execute_input": "2025-07-10T04:33:42.628609Z",
     "iopub.status.busy": "2025-07-10T04:33:42.628248Z",
     "iopub.status.idle": "2025-07-10T04:33:42.648567Z",
     "shell.execute_reply": "2025-07-10T04:33:42.647681Z"
    },
    "papermill": {
     "duration": 0.039039,
     "end_time": "2025-07-10T04:33:42.650141",
     "exception": false,
     "start_time": "2025-07-10T04:33:42.611102",
     "status": "completed"
    },
    "tags": []
   },
   "outputs": [
    {
     "data": {
      "text/plain": [
       "76.33136094674556"
      ]
     },
     "execution_count": 52,
     "metadata": {},
     "output_type": "execute_result"
    }
   ],
   "source": [
    "model.score(x_test,y_test)*100"
   ]
  },
  {
   "cell_type": "code",
   "execution_count": 53,
   "id": "4a2f9914",
   "metadata": {
    "execution": {
     "iopub.execute_input": "2025-07-10T04:33:42.684389Z",
     "iopub.status.busy": "2025-07-10T04:33:42.684081Z",
     "iopub.status.idle": "2025-07-10T04:33:42.702334Z",
     "shell.execute_reply": "2025-07-10T04:33:42.701533Z"
    },
    "papermill": {
     "duration": 0.037012,
     "end_time": "2025-07-10T04:33:42.703938",
     "exception": false,
     "start_time": "2025-07-10T04:33:42.666926",
     "status": "completed"
    },
    "tags": []
   },
   "outputs": [],
   "source": [
    "y_pred=model.predict(x_test)"
   ]
  },
  {
   "cell_type": "code",
   "execution_count": 54,
   "id": "1a232adb",
   "metadata": {
    "execution": {
     "iopub.execute_input": "2025-07-10T04:33:42.738113Z",
     "iopub.status.busy": "2025-07-10T04:33:42.737758Z",
     "iopub.status.idle": "2025-07-10T04:33:42.750186Z",
     "shell.execute_reply": "2025-07-10T04:33:42.749256Z"
    },
    "papermill": {
     "duration": 0.03119,
     "end_time": "2025-07-10T04:33:42.751613",
     "exception": false,
     "start_time": "2025-07-10T04:33:42.720423",
     "status": "completed"
    },
    "tags": []
   },
   "outputs": [
    {
     "name": "stdout",
     "output_type": "stream",
     "text": [
      "              precision    recall  f1-score   support\n",
      "\n",
      "           0       0.81      0.74      0.78        94\n",
      "           1       0.71      0.79      0.75        75\n",
      "\n",
      "    accuracy                           0.76       169\n",
      "   macro avg       0.76      0.77      0.76       169\n",
      "weighted avg       0.77      0.76      0.76       169\n",
      "\n"
     ]
    }
   ],
   "source": [
    "from sklearn.metrics import classification_report\n",
    "print(classification_report(y_test,y_pred))"
   ]
  },
  {
   "cell_type": "code",
   "execution_count": 55,
   "id": "dc307780",
   "metadata": {
    "execution": {
     "iopub.execute_input": "2025-07-10T04:33:42.786057Z",
     "iopub.status.busy": "2025-07-10T04:33:42.785689Z",
     "iopub.status.idle": "2025-07-10T04:33:42.804261Z",
     "shell.execute_reply": "2025-07-10T04:33:42.803233Z"
    },
    "papermill": {
     "duration": 0.037633,
     "end_time": "2025-07-10T04:33:42.805812",
     "exception": false,
     "start_time": "2025-07-10T04:33:42.768179",
     "status": "completed"
    },
    "tags": []
   },
   "outputs": [
    {
     "name": "stdout",
     "output_type": "stream",
     "text": [
      "(169,)\n"
     ]
    }
   ],
   "source": [
    "y_probs=model.predict_proba(x_test)[:,1]\n",
    "print(y_probs.shape)"
   ]
  },
  {
   "cell_type": "code",
   "execution_count": 56,
   "id": "250f5d8c",
   "metadata": {
    "execution": {
     "iopub.execute_input": "2025-07-10T04:33:42.840690Z",
     "iopub.status.busy": "2025-07-10T04:33:42.840365Z",
     "iopub.status.idle": "2025-07-10T04:33:42.844651Z",
     "shell.execute_reply": "2025-07-10T04:33:42.843808Z"
    },
    "papermill": {
     "duration": 0.023621,
     "end_time": "2025-07-10T04:33:42.846049",
     "exception": false,
     "start_time": "2025-07-10T04:33:42.822428",
     "status": "completed"
    },
    "tags": []
   },
   "outputs": [],
   "source": [
    "from sklearn.metrics import auc,roc_curve"
   ]
  },
  {
   "cell_type": "code",
   "execution_count": 57,
   "id": "751799dc",
   "metadata": {
    "execution": {
     "iopub.execute_input": "2025-07-10T04:33:42.880251Z",
     "iopub.status.busy": "2025-07-10T04:33:42.879896Z",
     "iopub.status.idle": "2025-07-10T04:33:42.886360Z",
     "shell.execute_reply": "2025-07-10T04:33:42.885532Z"
    },
    "papermill": {
     "duration": 0.025058,
     "end_time": "2025-07-10T04:33:42.887802",
     "exception": false,
     "start_time": "2025-07-10T04:33:42.862744",
     "status": "completed"
    },
    "tags": []
   },
   "outputs": [],
   "source": [
    "fpr,tpr,threshold=roc_curve(y_test,y_probs)\n",
    "roc_curve=auc(fpr,tpr)"
   ]
  },
  {
   "cell_type": "code",
   "execution_count": 58,
   "id": "0ab86156",
   "metadata": {
    "execution": {
     "iopub.execute_input": "2025-07-10T04:33:42.921891Z",
     "iopub.status.busy": "2025-07-10T04:33:42.921613Z",
     "iopub.status.idle": "2025-07-10T04:33:43.125772Z",
     "shell.execute_reply": "2025-07-10T04:33:43.124784Z"
    },
    "papermill": {
     "duration": 0.222955,
     "end_time": "2025-07-10T04:33:43.127372",
     "exception": false,
     "start_time": "2025-07-10T04:33:42.904417",
     "status": "completed"
    },
    "tags": []
   },
   "outputs": [
    {
     "data": {
      "image/png": "[encoded data removed]",
      "text/plain": [
       "<Figure size 800x600 with 1 Axes>"
      ]
     },
     "metadata": {},
     "output_type": "display_data"
    }
   ],
   "source": [
    "plt.figure(figsize=(8,6))\n",
    "plt.plot(fpr,tpr,color='orange',lw=2,label=f'ROC curve (AUC = {roc_curve:.2f})')\n",
    "plt.plot([0,1],[0,1],color='blue',lw=2,linestyle='--')\n",
    "plt.xlabel(\"False Positve Rate\")\n",
    "plt.ylabel(\"True Positive Rate\")\n",
    "plt.title(\"ROC CURVE\")\n",
    "plt.legend(loc='lower right')\n",
    "plt.grid(True)\n",
    "plt.tight_layout\n",
    "plt.show()"
   ]
  },
  {
   "cell_type": "code",
   "execution_count": 59,
   "id": "bc484aa2",
   "metadata": {
    "execution": {
     "iopub.execute_input": "2025-07-10T04:33:43.168139Z",
     "iopub.status.busy": "2025-07-10T04:33:43.167544Z",
     "iopub.status.idle": "2025-07-10T04:33:47.217393Z",
     "shell.execute_reply": "2025-07-10T04:33:47.216275Z"
    },
    "papermill": {
     "duration": 4.07067,
     "end_time": "2025-07-10T04:33:47.219606",
     "exception": false,
     "start_time": "2025-07-10T04:33:43.148936",
     "status": "completed"
    },
    "tags": []
   },
   "outputs": [
    {
     "name": "stdout",
     "output_type": "stream",
     "text": [
      "Requirement already satisfied: gradio in /usr/local/lib/python3.11/dist-packages (5.31.0)\r\n",
      "Requirement already satisfied: scikit-learn in /usr/local/lib/python3.11/dist-packages (1.2.2)\r\n",
      "Requirement already satisfied: pandas in /usr/local/lib/python3.11/dist-packages (2.2.3)\r\n",
      "Requirement already satisfied: aiofiles<25.0,>=22.0 in /usr/local/lib/python3.11/dist-packages (from gradio) (22.1.0)\r\n",
      "Requirement already satisfied: anyio<5.0,>=3.0 in /usr/local/lib/python3.11/dist-packages (from gradio) (4.9.0)\r\n",
      "Requirement already satisfied: fastapi<1.0,>=0.115.2 in /usr/local/lib/python3.11/dist-packages (from gradio) (0.115.13)\r\n",
      "Requirement already satisfied: ffmpy in /usr/local/lib/python3.11/dist-packages (from gradio) (0.6.0)\r\n",
      "Requirement already satisfied: gradio-client==1.10.1 in /usr/local/lib/python3.11/dist-packages (from gradio) (1.10.1)\r\n",
      "Requirement already satisfied: groovy~=0.1 in /usr/local/lib/python3.11/dist-packages (from gradio) (0.1.2)\r\n",
      "Requirement already satisfied: httpx>=0.24.1 in /usr/local/lib/python3.11/dist-packages (from gradio) (0.28.1)\r\n",
      "Requirement already satisfied: huggingface-hub>=0.28.1 in /usr/local/lib/python3.11/dist-packages (from gradio) (0.33.1)\r\n",
      "Requirement already satisfied: jinja2<4.0 in /usr/local/lib/python3.11/dist-packages (from gradio) (3.1.6)\r\n",
      "Requirement already satisfied: markupsafe<4.0,>=2.0 in /usr/local/lib/python3.11/dist-packages (from gradio) (3.0.2)\r\n",
      "Requirement already satisfied: numpy<3.0,>=1.0 in /usr/local/lib/python3.11/dist-packages (from gradio) (2.3.1)\r\n",
      "Requirement already satisfied: orjson~=3.0 in /usr/local/lib/python3.11/dist-packages (from gradio) (3.10.18)\r\n",
      "Requirement already satisfied: packaging in /usr/local/lib/python3.11/dist-packages (from gradio) (25.0)\r\n",
      "Requirement already satisfied: pillow<12.0,>=8.0 in /usr/local/lib/python3.11/dist-packages (from gradio) (11.2.1)\r\n",
      "Requirement already satisfied: pydantic<2.12,>=2.0 in /usr/local/lib/python3.11/dist-packages (from gradio) (2.11.7)\r\n",
      "Requirement already satisfied: pydub in /usr/local/lib/python3.11/dist-packages (from gradio) (0.25.1)\r\n",
      "Requirement already satisfied: python-multipart>=0.0.18 in /usr/local/lib/python3.11/dist-packages (from gradio) (0.0.20)\r\n",
      "Requirement already satisfied: pyyaml<7.0,>=5.0 in /usr/local/lib/python3.11/dist-packages (from gradio) (6.0.2)\r\n",
      "Requirement already satisfied: ruff>=0.9.3 in /usr/local/lib/python3.11/dist-packages (from gradio) (0.12.0)\r\n",
      "Requirement already satisfied: safehttpx<0.2.0,>=0.1.6 in /usr/local/lib/python3.11/dist-packages (from gradio) (0.1.6)\r\n",
      "Requirement already satisfied: semantic-version~=2.0 in /usr/local/lib/python3.11/dist-packages (from gradio) (2.10.0)\r\n",
      "Requirement already satisfied: starlette<1.0,>=0.40.0 in /usr/local/lib/python3.11/dist-packages (from gradio) (0.46.2)\r\n",
      "Requirement already satisfied: tomlkit<0.14.0,>=0.12.0 in /usr/local/lib/python3.11/dist-packages (from gradio) (0.13.3)\r\n",
      "Requirement already satisfied: typer<1.0,>=0.12 in /usr/local/lib/python3.11/dist-packages (from gradio) (0.16.0)\r\n",
      "Requirement already satisfied: typing-extensions~=4.0 in /usr/local/lib/python3.11/dist-packages (from gradio) (4.14.0)\r\n",
      "Requirement already satisfied: uvicorn>=0.14.0 in /usr/local/lib/python3.11/dist-packages (from gradio) (0.34.3)\r\n",
      "Requirement already satisfied: fsspec in /usr/local/lib/python3.11/dist-packages (from gradio-client==1.10.1->gradio) (2025.5.1)\r\n",
      "Requirement already satisfied: websockets<16.0,>=10.0 in /usr/local/lib/python3.11/dist-packages (from gradio-client==1.10.1->gradio) (15.0.1)\r\n",
      "Requirement already satisfied: scipy>=1.3.2 in /usr/local/lib/python3.11/dist-packages (from scikit-learn) (1.16.0)\r\n",
      "Requirement already satisfied: joblib>=1.1.1 in /usr/local/lib/python3.11/dist-packages (from scikit-learn) (1.5.1)\r\n",
      "Requirement already satisfied: threadpoolctl>=2.0.0 in /usr/local/lib/python3.11/dist-packages (from scikit-learn) (3.6.0)\r\n",
      "Requirement already satisfied: python-dateutil>=2.8.2 in /usr/local/lib/python3.11/dist-packages (from pandas) (2.9.0.post0)\r\n",
      "Requirement already satisfied: pytz>=2020.1 in /usr/local/lib/python3.11/dist-packages (from pandas) (2025.2)\r\n",
      "Requirement already satisfied: tzdata>=2022.7 in /usr/local/lib/python3.11/dist-packages (from pandas) (2025.2)\r\n",
      "Requirement already satisfied: idna>=2.8 in /usr/local/lib/python3.11/dist-packages (from anyio<5.0,>=3.0->gradio) (3.10)\r\n",
      "Requirement already satisfied: sniffio>=1.1 in /usr/local/lib/python3.11/dist-packages (from anyio<5.0,>=3.0->gradio) (1.3.1)\r\n",
      "Requirement already satisfied: certifi in /usr/local/lib/python3.11/dist-packages (from httpx>=0.24.1->gradio) (2025.6.15)\r\n",
      "Requirement already satisfied: httpcore==1.* in /usr/local/lib/python3.11/dist-packages (from httpx>=0.24.1->gradio) (1.0.9)\r\n",
      "Requirement already satisfied: h11>=0.16 in /usr/local/lib/python3.11/dist-packages (from httpcore==1.*->httpx>=0.24.1->gradio) (0.16.0)\r\n",
      "Requirement already satisfied: filelock in /usr/local/lib/python3.11/dist-packages (from huggingface-hub>=0.28.1->gradio) (3.18.0)\r\n",
      "Requirement already satisfied: requests in /usr/local/lib/python3.11/dist-packages (from huggingface-hub>=0.28.1->gradio) (2.32.4)\r\n",
      "Requirement already satisfied: tqdm>=4.42.1 in /usr/local/lib/python3.11/dist-packages (from huggingface-hub>=0.28.1->gradio) (4.67.1)\r\n",
      "Requirement already satisfied: hf-xet<2.0.0,>=1.1.2 in /usr/local/lib/python3.11/dist-packages (from huggingface-hub>=0.28.1->gradio) (1.1.5)\r\n",
      "Requirement already satisfied: annotated-types>=0.6.0 in /usr/local/lib/python3.11/dist-packages (from pydantic<2.12,>=2.0->gradio) (0.7.0)\r\n",
      "Requirement already satisfied: pydantic-core==2.33.2 in /usr/local/lib/python3.11/dist-packages (from pydantic<2.12,>=2.0->gradio) (2.33.2)\r\n",
      "Requirement already satisfied: typing-inspection>=0.4.0 in /usr/local/lib/python3.11/dist-packages (from pydantic<2.12,>=2.0->gradio) (0.4.1)\r\n",
      "Requirement already satisfied: six>=1.5 in /usr/local/lib/python3.11/dist-packages (from python-dateutil>=2.8.2->pandas) (1.17.0)\r\n",
      "Requirement already satisfied: click>=8.0.0 in /usr/local/lib/python3.11/dist-packages (from typer<1.0,>=0.12->gradio) (8.2.1)\r\n",
      "Requirement already satisfied: shellingham>=1.3.0 in /usr/local/lib/python3.11/dist-packages (from typer<1.0,>=0.12->gradio) (1.5.4)\r\n",
      "Requirement already satisfied: rich>=10.11.0 in /usr/local/lib/python3.11/dist-packages (from typer<1.0,>=0.12->gradio) (14.0.0)\r\n",
      "Requirement already satisfied: markdown-it-py>=2.2.0 in /usr/local/lib/python3.11/dist-packages (from rich>=10.11.0->typer<1.0,>=0.12->gradio) (3.0.0)\r\n",
      "Requirement already satisfied: pygments<3.0.0,>=2.13.0 in /usr/local/lib/python3.11/dist-packages (from rich>=10.11.0->typer<1.0,>=0.12->gradio) (2.19.2)\r\n",
      "Requirement already satisfied: charset_normalizer<4,>=2 in /usr/local/lib/python3.11/dist-packages (from requests->huggingface-hub>=0.28.1->gradio) (3.4.2)\r\n",
      "Requirement already satisfied: urllib3<3,>=1.21.1 in /usr/local/lib/python3.11/dist-packages (from requests->huggingface-hub>=0.28.1->gradio) (2.5.0)\r\n",
      "Requirement already satisfied: mdurl~=0.1 in /usr/local/lib/python3.11/dist-packages (from markdown-it-py>=2.2.0->rich>=10.11.0->typer<1.0,>=0.12->gradio) (0.1.2)\r\n"
     ]
    }
   ],
   "source": [
    "!pip install gradio scikit-learn pandas"
   ]
  },
  {
   "cell_type": "code",
   "execution_count": 60,
   "id": "5242da16",
   "metadata": {
    "execution": {
     "iopub.execute_input": "2025-07-10T04:33:47.257358Z",
     "iopub.status.busy": "2025-07-10T04:33:47.256946Z",
     "iopub.status.idle": "2025-07-10T04:33:47.261999Z",
     "shell.execute_reply": "2025-07-10T04:33:47.261050Z"
    },
    "papermill": {
     "duration": 0.025909,
     "end_time": "2025-07-10T04:33:47.263556",
     "exception": false,
     "start_time": "2025-07-10T04:33:47.237647",
     "status": "completed"
    },
    "tags": []
   },
   "outputs": [],
   "source": [
    "import joblib"
   ]
  },
  {
   "cell_type": "code",
   "execution_count": 61,
   "id": "034676cc",
   "metadata": {
    "execution": {
     "iopub.execute_input": "2025-07-10T04:33:47.300323Z",
     "iopub.status.busy": "2025-07-10T04:33:47.300002Z",
     "iopub.status.idle": "2025-07-10T04:33:47.379084Z",
     "shell.execute_reply": "2025-07-10T04:33:47.378048Z"
    },
    "papermill": {
     "duration": 0.09922,
     "end_time": "2025-07-10T04:33:47.380510",
     "exception": false,
     "start_time": "2025-07-10T04:33:47.281290",
     "status": "completed"
    },
    "tags": []
   },
   "outputs": [
    {
     "name": "stdout",
     "output_type": "stream",
     "text": [
      "Model Saved\n"
     ]
    }
   ],
   "source": [
    "joblib.dump(model,\"code_alphacredit2.pkl\")\n",
    "print(\"Model Saved\")"
   ]
  },
  {
   "cell_type": "code",
   "execution_count": 62,
   "id": "27f6fe0c",
   "metadata": {
    "execution": {
     "iopub.execute_input": "2025-07-10T04:33:47.418343Z",
     "iopub.status.busy": "2025-07-10T04:33:47.418005Z",
     "iopub.status.idle": "2025-07-10T04:33:47.429662Z",
     "shell.execute_reply": "2025-07-10T04:33:47.428814Z"
    },
    "papermill": {
     "duration": 0.032573,
     "end_time": "2025-07-10T04:33:47.431436",
     "exception": false,
     "start_time": "2025-07-10T04:33:47.398863",
     "status": "completed"
    },
    "tags": []
   },
   "outputs": [],
   "source": [
    "import pandas as pd\n",
    "\n",
    "df = pd.read_csv(\"/kaggle/input/creaditing-scoring-dataset/train.csv\")"
   ]
  },
  {
   "cell_type": "code",
   "execution_count": 63,
   "id": "72ad94ab",
   "metadata": {
    "execution": {
     "iopub.execute_input": "2025-07-10T04:33:47.469842Z",
     "iopub.status.busy": "2025-07-10T04:33:47.469503Z",
     "iopub.status.idle": "2025-07-10T04:33:55.425973Z",
     "shell.execute_reply": "2025-07-10T04:33:55.425044Z"
    },
    "papermill": {
     "duration": 7.977744,
     "end_time": "2025-07-10T04:33:55.427557",
     "exception": false,
     "start_time": "2025-07-10T04:33:47.449813",
     "status": "completed"
    },
    "tags": []
   },
   "outputs": [
    {
     "name": "stdout",
     "output_type": "stream",
     "text": [
      "* Running on local URL:  http://127.0.0.1:7860\n",
      "It looks like you are running Gradio on a hosted a Jupyter notebook. For the Gradio app to work, sharing must be enabled. Automatically setting `share=True` (you can turn this off by setting `share=False` in `launch()` explicitly).\n",
      "\n",
      "* Running on public URL: https://c5c03c877c38bdef4e.gradio.live\n",
      "\n",
      "This share link expires in 1 week. For free permanent hosting and GPU upgrades, run `gradio deploy` from the terminal in the working directory to deploy to Hugging Face Spaces (https://huggingface.co/spaces)\n"
     ]
    },
    {
     "data": {
      "text/html": [
       "<div><iframe src=\"https://c5c03c877c38bdef4e.gradio.live\" width=\"100%\" height=\"500\" allow=\"autoplay; camera; microphone; clipboard-read; clipboard-write;\" frameborder=\"0\" allowfullscreen></iframe></div>"
      ],
      "text/plain": [
       "<IPython.core.display.HTML object>"
      ]
     },
     "metadata": {},
     "output_type": "display_data"
    },
    {
     "data": {
      "text/plain": []
     },
     "execution_count": 63,
     "metadata": {},
     "output_type": "execute_result"
    }
   ],
   "source": [
    "def predict_credit(\n",
    "    Gender, Married, Dependents, Education, Self_Employed,\n",
    "    ApplicantIncome, CoapplicantIncome, LoanAmount,\n",
    "    Loan_Amount_Term_Years, Credit_History, Property_Area\n",
    "):\n",
    "    # Convert loan term from years to months\n",
    "    loan_term_months = Loan_Amount_Term_Years * 12\n",
    "\n",
    "    input_data = {\n",
    "        'Gender': Gender,\n",
    "        'Married': Married,\n",
    "        'Dependents': Dependents,\n",
    "        'Education': Education,\n",
    "        'Self_Employed': Self_Employed,\n",
    "        'ApplicantIncome': ApplicantIncome,\n",
    "        'CoapplicantIncome': CoapplicantIncome,\n",
    "        'LoanAmount': LoanAmount,\n",
    "        'Loan_Amount_Term': loan_term_months,\n",
    "        'Credit_History': Credit_History,\n",
    "        'Property_Area': Property_Area\n",
    "    }\n",
    "    \n",
    "    df = pd.DataFrame([input_data])\n",
    "    prediction = model.predict(df)[0]\n",
    "    return \"Loan Approved\" if prediction == 1 else \"Loan Rejected\"\n",
    "\n",
    "# Interface\n",
    "import gradio as gr\n",
    "gr.Interface(\n",
    "    fn=predict_credit,\n",
    "    inputs=[\n",
    "        gr.Number(label=\"Gender (0=Female, 1=Male)\"),\n",
    "        gr.Number(label=\"Married (0=No, 1=Yes)\"),\n",
    "        gr.Number(label=\"Dependents (0, 1, 2, 3)\"),\n",
    "        gr.Number(label=\"Education (0=Not Graduate, 1=Graduate)\"),\n",
    "        gr.Number(label=\"Self Employed (0=No, 1=Yes)\"),\n",
    "        gr.Number(label=\"Applicant Income\"),\n",
    "        gr.Number(label=\"Coapplicant Income\"),\n",
    "        gr.Number(label=\"Loan Amount\"),\n",
    "        gr.Number(label=\"Loan Term (in years)\"),  # User-friendly label\n",
    "        gr.Number(label=\"Credit History (0.0 or 1.0)\"),\n",
    "        gr.Number(label=\"Property Area (0=Rural, 1=Semiurban, 2=Urban)\")\n",
    "    ],\n",
    "    outputs=\"text\",\n",
    "    title=\"Credit Worthiness  Predictor\",\n",
    "    description=\"Enter applicant details (label encoded) to predict loan approval status. Loan term is in years and will be converted to months.\"\n",
    ").launch()"
   ]
  }
 ],
 "metadata": {
  "kaggle": {
   "accelerator": "none",
   "dataSources": [
    {
     "datasetId": 7827681,
     "sourceId": 12411714,
     "sourceType": "datasetVersion"
    }
   ],
   "dockerImageVersionId": 31089,
   "isGpuEnabled": false,
   "isInternetEnabled": true,
   "language": "python",
   "sourceType": "notebook"
  },
  "kernelspec": {
   "display_name": "Python 3",
   "language": "python",
   "name": "python3"
  },
  "language_info": {
   "codemirror_mode": {
    "name": "ipython",
    "version": 3
   },
   "file_extension": ".py",
   "mimetype": "text/x-python",
   "name": "python",
   "nbconvert_exporter": "python",
   "pygments_lexer": "ipython3",
   "version": "3.11.13"
  },
  "papermill": {
   "default_parameters": {},
   "duration": 72.703061,
   "end_time": "2025-07-10T04:33:58.066941",
   "environment_variables": {},
   "exception": null,
   "input_path": "__notebook__.ipynb",
   "output_path": "__notebook__.ipynb",
   "parameters": {},
   "start_time": "2025-07-10T04:32:45.363880",
   "version": "2.6.0"
  }
 },
 "nbformat": 4,
 "nbformat_minor": 5
}
